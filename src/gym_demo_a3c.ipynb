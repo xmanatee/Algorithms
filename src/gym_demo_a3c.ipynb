{
 "cells": [
  {
   "cell_type": "code",
   "execution_count": 1,
   "metadata": {
    "collapsed": false
   },
   "outputs": [],
   "source": [
    "%load_ext autoreload\n",
    "%autoreload 2"
   ]
  },
  {
   "cell_type": "code",
   "execution_count": 2,
   "metadata": {
    "collapsed": true
   },
   "outputs": [],
   "source": [
    "import sys, os\n",
    "sys.path.append(os.getcwd() + '/..')\n",
    "import src"
   ]
  },
  {
   "cell_type": "markdown",
   "metadata": {},
   "source": [
    "# Experiment setup\n",
    "* Here we basically just load the game and check that it works"
   ]
  },
  {
   "cell_type": "code",
   "execution_count": 3,
   "metadata": {
    "collapsed": false
   },
   "outputs": [
    {
     "name": "stdout",
     "output_type": "stream",
     "text": [
      "env: THEANO_FLAGS=\"floatX=float32\"\n"
     ]
    }
   ],
   "source": [
    "from __future__ import print_function \n",
    "import matplotlib.pyplot as plt\n",
    "import numpy as np\n",
    "import gym\n",
    "from tqdm import tqdm\n",
    "\n",
    "%matplotlib inline\n",
    "%env THEANO_FLAGS=\"floatX=float32\""
   ]
  },
  {
   "cell_type": "code",
   "execution_count": 4,
   "metadata": {
    "collapsed": true
   },
   "outputs": [],
   "source": [
    "# np.random.seed(seed=20)\n",
    "# np.random.seed(seed=42)\n"
   ]
  },
  {
   "cell_type": "code",
   "execution_count": 5,
   "metadata": {
    "collapsed": true
   },
   "outputs": [],
   "source": [
    "GAME = \"FrontoPolarStocks-v0\"\n",
    "\n",
    "N_AGENTS = 1\n",
    "SEQ_LENGTH = 25"
   ]
  },
  {
   "cell_type": "code",
   "execution_count": 6,
   "metadata": {
    "collapsed": false
   },
   "outputs": [
    {
     "name": "stderr",
     "output_type": "stream",
     "text": [
      "[2017-09-05 00:00:27,258] Making new env: FrontoPolarStocks-v0\n"
     ]
    },
    {
     "name": "stdout",
     "output_type": "stream",
     "text": [
      "[ 136.010002   17.64    ]\n"
     ]
    }
   ],
   "source": [
    "env = gym.make(GAME)\n",
    "env.reset()\n",
    "\n",
    "action_shape = (env.action_space.num_discrete_space,)\n",
    "action_emb_shape = (*action_shape, 3)\n",
    "state_shape = env.observation_space.shape\n",
    "\n",
    "random_action = np.random.randint(low=0, high=3, size=action_shape)\n",
    "\n",
    "state, _, _, _ = env.step(random_action)\n",
    "\n",
    "action_names = np.array([\"sell\", \"pass\", \"buy\"]) #i guess so... i may be wrong\n",
    "\n",
    "print(state)"
   ]
  },
  {
   "cell_type": "markdown",
   "metadata": {},
   "source": [
    "# Basic agent setup\n",
    "Here we define a simple agent that maps game images into Qvalues using shallow neural network.\n"
   ]
  },
  {
   "cell_type": "code",
   "execution_count": 7,
   "metadata": {
    "collapsed": true
   },
   "outputs": [],
   "source": [
    "import theano\n",
    "from theano import tensor as T\n",
    "import lasagne\n",
    "\n",
    "theano.config.exception_verbosity = 'high'\n",
    "theano.config.optimizer = 'fast_compile'"
   ]
  },
  {
   "cell_type": "code",
   "execution_count": 8,
   "metadata": {
    "collapsed": false
   },
   "outputs": [],
   "source": [
    "from agent.agent import build_agent"
   ]
  },
  {
   "cell_type": "code",
   "execution_count": 9,
   "metadata": {
    "collapsed": false
   },
   "outputs": [],
   "source": [
    "agent, action_layer, V_layer = build_agent(action_emb_shape, state_shape)"
   ]
  },
  {
   "cell_type": "code",
   "execution_count": 10,
   "metadata": {
    "collapsed": false
   },
   "outputs": [
    {
     "data": {
      "text/plain": [
       "(None, 2)"
      ]
     },
     "execution_count": 10,
     "metadata": {},
     "output_type": "execute_result"
    }
   ],
   "source": [
    "agent.action_layers[0].output_shape"
   ]
  },
  {
   "cell_type": "code",
   "execution_count": 11,
   "metadata": {
    "collapsed": false
   },
   "outputs": [],
   "source": [
    "#Since it's a single lasagne network, one can get it's weights, output, etc\n",
    "weights = lasagne.layers.get_all_params((action_layer,V_layer),trainable=True)"
   ]
  },
  {
   "cell_type": "markdown",
   "metadata": {},
   "source": [
    "# Create and manage a pool of atari sessions to play with\n",
    "\n",
    "* To make training more stable, we shall have an entire batch of game sessions each happening independent of others\n",
    "* Why several parallel agents help training: http://arxiv.org/pdf/1602.01783v1.pdf\n",
    "* Alternative approach: store more sessions: https://www.cs.toronto.edu/~vmnih/docs/dqn.pdf"
   ]
  },
  {
   "cell_type": "code",
   "execution_count": 12,
   "metadata": {
    "collapsed": false,
    "scrolled": false
   },
   "outputs": [
    {
     "name": "stderr",
     "output_type": "stream",
     "text": [
      "[2017-09-05 00:00:28,805] Making new env: FrontoPolarStocks-v0\n"
     ]
    }
   ],
   "source": [
    "from agentnet.experiments.openai_gym.pool import EnvPool\n",
    "\n",
    "pool = EnvPool(agent, GAME, N_AGENTS, max_size=10000)"
   ]
  },
  {
   "cell_type": "code",
   "execution_count": 13,
   "metadata": {
    "collapsed": false,
    "scrolled": false
   },
   "outputs": [
    {
     "name": "stdout",
     "output_type": "stream",
     "text": [
      "[[['buy' 'sell']\n",
      "  ['sell' 'buy']\n",
      "  ['buy' 'buy']\n",
      "  ['buy' 'buy']\n",
      "  ['buy' 'buy']\n",
      "  ['sell' 'buy']\n",
      "  ['buy' 'buy']\n",
      "  ['sell' 'buy']\n",
      "  ['buy' 'sell']\n",
      "  ['pass' 'buy']]]\n",
      "[[ -1.72505901  -0.56255999  -1.78435997   2.40297003   9.784077\n",
      "    1.67338601  17.08936      5.827854    -3.28881197   0.        ]]\n"
     ]
    }
   ],
   "source": [
    "_,action_log,reward_log,_,_,_  = pool.interact(10)\n",
    "\n",
    "\n",
    "print(action_names[action_log])\n",
    "print(reward_log)"
   ]
  },
  {
   "cell_type": "code",
   "execution_count": 14,
   "metadata": {
    "collapsed": false
   },
   "outputs": [],
   "source": [
    "#load first sessions (this function calls interact and remembers sessions)\n",
    "pool.update(SEQ_LENGTH)"
   ]
  },
  {
   "cell_type": "markdown",
   "metadata": {},
   "source": [
    "# a2c loss\n",
    "\n",
    "Here we define obective function for actor-critic (one-step) RL.\n",
    "\n",
    "* We regularize policy with expected inverse action probabilities (discouraging very small probas) to make objective numerically stable\n"
   ]
  },
  {
   "cell_type": "code",
   "execution_count": 15,
   "metadata": {
    "collapsed": false
   },
   "outputs": [],
   "source": [
    "#get agent's Qvalues obtained via experience replay\n",
    "replay = pool.experience_replay.sample_session_batch(100, replace=True)\n",
    "\n",
    "_,_,_,_,(policy_seq,V_seq) = agent.get_sessions(\n",
    "    replay,\n",
    "    session_length=SEQ_LENGTH,\n",
    "    experience_replay=True,\n",
    ")\n"
   ]
  },
  {
   "cell_type": "code",
   "execution_count": 16,
   "metadata": {
    "collapsed": false
   },
   "outputs": [],
   "source": [
    "from agent.train_step import get_train_step\n",
    "\n",
    "# replay.rewards = T.printing.Print(\">>>>>>>>>> replay.rewards: \")(replay.rewards)\n",
    "\n",
    "train_step = get_train_step(policy_seq, V_seq, weights, replay)"
   ]
  },
  {
   "cell_type": "markdown",
   "metadata": {},
   "source": [
    "# Demo run"
   ]
  },
  {
   "cell_type": "code",
   "execution_count": 17,
   "metadata": {
    "collapsed": false
   },
   "outputs": [
    {
     "name": "stderr",
     "output_type": "stream",
     "text": [
      "[2017-09-05 00:00:32,977] Making new env: FrontoPolarStocks-v0\n",
      "[2017-09-05 00:00:33,022] Clearing 4 monitor files from previous run (because force=True was provided)\n",
      "[2017-09-05 00:00:33,024] Starting new video recorder writing to /home/manatee/Desktop/inn.prac/Algorithms/src/records/openaigym.video.0.2122.video000000.mp4\n",
      "[2017-09-05 00:00:36,647] Finished writing results. You can upload them to the scoreboard via gym.upload('/home/manatee/Desktop/inn.prac/Algorithms/src/records')\n"
     ]
    },
    {
     "name": "stdout",
     "output_type": "stream",
     "text": [
      "Episode finished after 200 timesteps with reward=14311.205137728051\n"
     ]
    }
   ],
   "source": [
    "untrained_reward = pool.evaluate(save_path=\"./records\", record_video=True)"
   ]
  },
  {
   "cell_type": "code",
   "execution_count": 18,
   "metadata": {
    "collapsed": false
   },
   "outputs": [],
   "source": [
    "# from IPython.display import HTML\n",
    "\n",
    "# video_path=\"records/openaigym.video.0.29209.video000000.mp4\"\n",
    "\n",
    "# HTML(\"\"\"\n",
    "# <video width=\"640\" height=\"480\" controls>\n",
    "#   <source src=\"{}\" type=\"video/mp4\">\n",
    "# </video>\n",
    "# \"\"\".format(video_path))"
   ]
  },
  {
   "cell_type": "markdown",
   "metadata": {},
   "source": [
    "# Vime"
   ]
  },
  {
   "cell_type": "code",
   "execution_count": 19,
   "metadata": {
    "collapsed": false,
    "scrolled": false
   },
   "outputs": [
    {
     "name": "stdout",
     "output_type": "stream",
     "text": [
      "A:  (None, 2)\n",
      "A_emb:  (None, 6)\n",
      "S:  (None, 2)\n",
      "Concat:  (None, 8)\n",
      "l_dense:  :  (None, 8)  ->  (None, 50)\n",
      "l_out:  :  (None, 50)  ->  (None, 2)\n"
     ]
    }
   ],
   "source": [
    "from agent.bnn import BNN\n",
    "# print(\"action_emb_shape: \", action_emb_shape)\n",
    "bnn = BNN(state_shape, action_shape, action_emb_shape, replay)"
   ]
  },
  {
   "cell_type": "markdown",
   "metadata": {},
   "source": [
    "# Training loop"
   ]
  },
  {
   "cell_type": "code",
   "execution_count": 20,
   "metadata": {
    "collapsed": false
   },
   "outputs": [],
   "source": [
    "#starting epoch\n",
    "epoch_counter = 1\n",
    "\n",
    "#full game rewards\n",
    "rewards = {epoch_counter: untrained_reward}"
   ]
  },
  {
   "cell_type": "code",
   "execution_count": 21,
   "metadata": {
    "collapsed": false,
    "scrolled": false
   },
   "outputs": [
    {
     "name": "stderr",
     "output_type": "stream",
     "text": [
      "100%|██████████| 100/100 [00:06<00:00, 16.72it/s]\n"
     ]
    }
   ],
   "source": [
    "#pre-fill pool\n",
    "for i in tqdm(range(100)):\n",
    "# for i in tqdm(range(10)):\n",
    "    pool.update(SEQ_LENGTH, append=True, preprocess=bnn.add_vime_reward)\n",
    "#     pool.update(SEQ_LENGTH, append=True)"
   ]
  },
  {
   "cell_type": "code",
   "execution_count": 22,
   "metadata": {
    "collapsed": false,
    "scrolled": false
   },
   "outputs": [
    {
     "name": "stderr",
     "output_type": "stream",
     "text": [
      "100%|██████████| 100/100 [00:00<00:00, 204.96it/s]\n"
     ]
    }
   ],
   "source": [
    "#pre-train BNN (mitigate training lag on first iterations where BNN is stupid)\n",
    "\n",
    "for i in tqdm(range(100)):\n",
    "# for i in tqdm(range(10)):\n",
    "    from_pool = bnn.sample_from_pool()\n",
    "    bnn.train_step(*from_pool)"
   ]
  },
  {
   "cell_type": "code",
   "execution_count": 23,
   "metadata": {
    "collapsed": false,
    "scrolled": false
   },
   "outputs": [
    {
     "name": "stderr",
     "output_type": "stream",
     "text": [
      "\r",
      "  0%|          | 0/1000 [00:00<?, ?it/s]"
     ]
    },
    {
     "name": "stdout",
     "output_type": "stream",
     "text": [
      ">>>> policy_seq;  __str__ = [[[ 0.14181072  0.15308765  0.18365371  0.26436192  0.04178216  0.21530384]\n",
      "  [ 0.14181072  0.15308765  0.18365371  0.26436192  0.04178216  0.21530384]\n",
      "  [ 0.14181072  0.15308765  0.18365371  0.26436192  0.04178216  0.21530384]\n",
      "  ..., \n",
      "  [ 0.14181072  0.15308765  0.18365371  0.26436192  0.04178216  0.21530384]\n",
      "  [ 0.14181072  0.15308765  0.18365371  0.26436192  0.04178216  0.21530384]\n",
      "  [ 0.14181072  0.15308765  0.18365371  0.26436192  0.04178216  0.21530384]]\n",
      "\n",
      " [[ 0.13323706  0.09744211  0.28547591  0.18515025  0.03576923  0.26292545]\n",
      "  [ 0.13365018  0.09827401  0.28435853  0.18608937  0.03607522  0.26155266]\n",
      "  [ 0.13347824  0.097927    0.28482494  0.18569791  0.03594777  0.26212415]\n",
      "  ..., \n",
      "  [ 0.13385974  0.09869754  0.28378448  0.18656889  0.03622926  0.26086009]\n",
      "  [ 0.13417967  0.09935572  0.28289679  0.18730903  0.03646975  0.25978902]\n",
      "  [ 0.13428341  0.09957019  0.28260872  0.1875491   0.03654831  0.25944027]]\n",
      "\n",
      " [[ 0.14181072  0.15308765  0.18365371  0.26436192  0.04178216  0.21530384]\n",
      "  [ 0.14181072  0.15308765  0.18365371  0.26436192  0.04178216  0.21530384]\n",
      "  [ 0.14181072  0.15308765  0.18365371  0.26436192  0.04178216  0.21530384]\n",
      "  ..., \n",
      "  [ 0.14181069  0.15308745  0.18365389  0.26436177  0.0417821   0.21530411]\n",
      "  [ 0.14181067  0.15308748  0.18365388  0.26436177  0.04178211  0.21530408]\n",
      "  [ 0.14181069  0.15308748  0.18365386  0.2643618   0.04178212  0.21530406]]\n",
      "\n",
      " ..., \n",
      " [[ 0.14179748  0.15065682  0.1874526   0.26105967  0.04165801  0.21737541]\n",
      "  [ 0.14173432  0.15111215  0.18653479  0.26184177  0.04160702  0.21716994]\n",
      "  [ 0.14172277  0.15127884  0.18623491  0.26209962  0.0416014   0.21706246]\n",
      "  ..., \n",
      "  [ 0.17426141  0.0555086   0.42326662  0.1143694   0.03173451  0.20085946]\n",
      "  [ 0.17424332  0.0555137   0.42334878  0.11432582  0.03172601  0.20084238]\n",
      "  [ 0.17425279  0.05551101  0.42330581  0.11434862  0.03173045  0.20085132]]\n",
      "\n",
      " [[ 0.1823695   0.05287335  0.3836886   0.13681594  0.03594713  0.20830546]\n",
      "  [ 0.18218449  0.05294305  0.38466623  0.13622497  0.03584029  0.20814098]\n",
      "  [ 0.18216313  0.05295105  0.38477877  0.13615708  0.03582799  0.20812197]\n",
      "  ..., \n",
      "  [ 0.1757118   0.05509167  0.41660264  0.11794413  0.0324275   0.20222226]\n",
      "  [ 0.17560151  0.0551241   0.41711476  0.11766659  0.03237401  0.20211904]\n",
      "  [ 0.17569561  0.05509644  0.4166778   0.11790337  0.03241965  0.20220712]]\n",
      "\n",
      " [[ 0.17420866  0.05555645  0.42331931  0.11434726  0.03173655  0.20083177]\n",
      "  [ 0.17421944  0.05554932  0.42329404  0.11435997  0.03173826  0.20083898]\n",
      "  [ 0.17421755  0.05555977  0.42324728  0.11438652  0.03174536  0.20084354]\n",
      "  ..., \n",
      "  [ 0.17436713  0.05549198  0.42271173  0.11466654  0.03179514  0.20096749]\n",
      "  [ 0.17437263  0.05548297  0.42272857  0.11465618  0.0317916   0.20096806]\n",
      "  [ 0.17430954  0.05552337  0.42288944  0.11457479  0.03178023  0.20092264]]]\n"
     ]
    },
    {
     "name": "stderr",
     "output_type": "stream",
     "text": [
      "\n"
     ]
    },
    {
     "ename": "IndexError",
     "evalue": "shape mismatch: indexing arrays could not be broadcast together with shapes (100,1) (1,25) (100,25,2) \nApply node that caused the error: AdvancedSubtensor(Elemwise{log,no_inplace}.0, InplaceDimShuffle{0,x}.0, InplaceDimShuffle{x,0}.0, AdvancedSubtensor1.0)\nToposort index: 518\nInputs types: [TensorType(float32, 3D), TensorType(int64, col), TensorType(int64, row), TensorType(int32, 3D)]\nInputs shapes: [(100, 25, 6), (100, 1), (1, 25), (100, 25, 2)]\nInputs strides: [(600, 24, 4), (8, 8), (200, 8), (200, 8, 4)]\nInputs values: ['not shown', 'not shown', 'not shown', 'not shown']\nInputs type_num: [11, 7, 7, 5]\nOutputs clients: [[Elemwise{neg,no_inplace}(AdvancedSubtensor.0)]]\n\nBacktrace when the node is created(use Theano flag traceback.limit=N to make it longer):\n  File \"/home/manatee/anaconda3/lib/python3.6/site-packages/ipykernel/zmqshell.py\", line 501, in run_cell\n    return super(ZMQInteractiveShell, self).run_cell(*args, **kwargs)\n  File \"/home/manatee/anaconda3/lib/python3.6/site-packages/IPython/core/interactiveshell.py\", line 2717, in run_cell\n    interactivity=interactivity, compiler=compiler, result=result)\n  File \"/home/manatee/anaconda3/lib/python3.6/site-packages/IPython/core/interactiveshell.py\", line 2821, in run_ast_nodes\n    if self.run_code(code, result):\n  File \"/home/manatee/anaconda3/lib/python3.6/site-packages/IPython/core/interactiveshell.py\", line 2881, in run_code\n    exec(code_obj, self.user_global_ns, self.user_ns)\n  File \"<ipython-input-16-490dc9d7dd04>\", line 5, in <module>\n    train_step = get_train_step(policy_seq, V_seq, weights, replay)\n  File \"/home/manatee/Desktop/inn.prac/Algorithms/src/agent/train_step.py\", line 20, in get_train_step\n    gamma_or_gammas=0.99)\n  File \"/home/manatee/anaconda3/lib/python3.6/site-packages/agentnet/learning/a2c.py\", line 140, in get_elementwise_objective\n    action_logprobas = get_values_for_actions(logpolicy, actions) if logpolicy.ndim == 3 else logpolicy\n  File \"/home/manatee/anaconda3/lib/python3.6/site-packages/agentnet/learning/generic.py\", line 265, in get_values_for_actions\n    action_values_predicted = values_for_all_actions[batch_i, time_i, actions]\n\nDebugprint of the apply node: \nAdvancedSubtensor [id A] <TensorType(float32, 3D)> ''   \n |Elemwise{log,no_inplace} [id B] <TensorType(float32, 3D)> ''   \n | |Print{message='>>>> policy_seq; ', attrs=('__str__',), global_fn=<function _print_fn at 0x7f6ce6096a60>} [id C] <TensorType(float32, 3D)> ''   \n |   |InplaceDimShuffle{1,0,2} [id D] <TensorType(float32, 3D)> ''   \n |     |Join [id E] <TensorType(float32, 3D)> ''   \n |       |TensorConstant{0} [id F] <TensorType(int8, scalar)>\n |       |InplaceDimShuffle{x,0,1} [id G] <TensorType(float32, (True, False, False))> ''   \n |       | |SoftmaxWithBias [id H] <TensorType(float32, matrix)> ''   \n |       |   |Dot22 [id I] <TensorType(float32, matrix)> ''   \n |       |   | |sigmoid [id J] <TensorType(float32, matrix)> ''   \n |       |   | | |Elemwise{add,no_inplace} [id K] <TensorType(float32, matrix)> ''   \n |       |   | |   |Dot22 [id L] <TensorType(float32, matrix)> ''   \n |       |   | |   | |Subtensor{int64} [id M] <TensorType(float32, matrix)> ''   \n |       |   | |   | | |InplaceDimShuffle{1,0,2} [id N] <TensorType(float32, 3D)> ''   \n |       |   | |   | | | |AdvancedSubtensor1 [id O] <TensorType(float32, 3D)> ''   \n |       |   | |   | | |   |sessions.observations_history.0 [id P] <TensorType(float32, 3D)>\n |       |   | |   | | |   |RandomFunction{choice_helper}.1 [id Q] <TensorType(int32, vector)> ''   \n |       |   | |   | | |     |<RandomStateType> [id R] <RandomStateType>\n |       |   | |   | | |     |TensorConstant{(1,) of 100} [id S] <TensorType(int64, vector)>\n |       |   | |   | | |     |Subtensor{int64} [id T] <TensorType(int64, scalar)> ''   \n |       |   | |   | | |     | |Shape [id U] <TensorType(int64, vector)> ''   \n |       |   | |   | | |     | | |session.rewards_history [id V] <TensorType(float32, matrix)>\n |       |   | |   | | |     | |Constant{0} [id W] <int64>\n |       |   | |   | | |     |TensorConstant{1} [id X] <TensorType(int8, scalar)>\n |       |   | |   | | |     |TensorConstant{[]} [id Y] <TensorType(float32, vector)>\n |       |   | |   | | |Constant{0} [id W] <int64>\n |       |   | |   | |dense1.W [id Z] <TensorType(float32, matrix)>\n |       |   | |   |InplaceDimShuffle{x,0} [id BA] <TensorType(float32, row)> ''   \n |       |   | |     |dense1.b [id BB] <TensorType(float32, vector)>\n |       |   | |q-evaluator layer.W [id BC] <TensorType(float32, matrix)>\n |       |   |q-evaluator layer.b [id BD] <TensorType(float32, vector)>\n |       |InplaceDimShuffle{x,0,1} [id BE] <TensorType(float32, (True, False, False))> ''   \n |       | |SoftmaxWithBias [id BF] <TensorType(float32, matrix)> ''   \n |       |   |Dot22 [id BG] <TensorType(float32, matrix)> ''   \n |       |   | |sigmoid [id BH] <TensorType(float32, matrix)> ''   \n |       |   | | |Elemwise{add,no_inplace} [id BI] <TensorType(float32, matrix)> ''   \n |       |   | |   |Dot22 [id BJ] <TensorType(float32, matrix)> ''   \n |       |   | |   | |Subtensor{int64} [id BK] <TensorType(float32, matrix)> ''   \n |       |   | |   | | |InplaceDimShuffle{1,0,2} [id N] <TensorType(float32, 3D)> ''   \n |       |   | |   | | |Constant{1} [id BL] <int64>\n |       |   | |   | |dense1.W [id Z] <TensorType(float32, matrix)>\n |       |   | |   |InplaceDimShuffle{x,0} [id BA] <TensorType(float32, row)> ''   \n |       |   | |q-evaluator layer.W [id BC] <TensorType(float32, matrix)>\n |       |   |q-evaluator layer.b [id BD] <TensorType(float32, vector)>\n |       |InplaceDimShuffle{x,0,1} [id BM] <TensorType(float32, (True, False, False))> ''   \n |       | |SoftmaxWithBias [id BN] <TensorType(float32, matrix)> ''   \n |       |   |Dot22 [id BO] <TensorType(float32, matrix)> ''   \n |       |   | |sigmoid [id BP] <TensorType(float32, matrix)> ''   \n |       |   | | |Elemwise{add,no_inplace} [id BQ] <TensorType(float32, matrix)> ''   \n |       |   | |   |Dot22 [id BR] <TensorType(float32, matrix)> ''   \n |       |   | |   | |Subtensor{int64} [id BS] <TensorType(float32, matrix)> ''   \n |       |   | |   | | |InplaceDimShuffle{1,0,2} [id N] <TensorType(float32, 3D)> ''   \n |       |   | |   | | |Constant{2} [id BT] <int64>\n |       |   | |   | |dense1.W [id Z] <TensorType(float32, matrix)>\n |       |   | |   |InplaceDimShuffle{x,0} [id BA] <TensorType(float32, row)> ''   \n |       |   | |q-evaluator layer.W [id BC] <TensorType(float32, matrix)>\n |       |   |q-evaluator layer.b [id BD] <TensorType(float32, vector)>\n |       |InplaceDimShuffle{x,0,1} [id BU] <TensorType(float32, (True, False, False))> ''   \n |       | |SoftmaxWithBias [id BV] <TensorType(float32, matrix)> ''   \n |       |   |Dot22 [id BW] <TensorType(float32, matrix)> ''   \n |       |   | |sigmoid [id BX] <TensorType(float32, matrix)> ''   \n |       |   | | |Elemwise{add,no_inplace} [id BY] <TensorType(float32, matrix)> ''   \n |       |   | |   |Dot22 [id BZ] <TensorType(float32, matrix)> ''   \n |       |   | |   | |Subtensor{int64} [id CA] <TensorType(float32, matrix)> ''   \n |       |   | |   | | |InplaceDimShuffle{1,0,2} [id N] <TensorType(float32, 3D)> ''   \n |       |   | |   | | |Constant{3} [id CB] <int64>\n |       |   | |   | |dense1.W [id Z] <TensorType(float32, matrix)>\n |       |   | |   |InplaceDimShuffle{x,0} [id BA] <TensorType(float32, row)> ''   \n |       |   | |q-evaluator layer.W [id BC] <TensorType(float32, matrix)>\n |       |   |q-evaluator layer.b [id BD] <TensorType(float32, vector)>\n |       |InplaceDimShuffle{x,0,1} [id CC] <TensorType(float32, (True, False, False))> ''   \n |       | |SoftmaxWithBias [id CD] <TensorType(float32, matrix)> ''   \n |       |   |Dot22 [id CE] <TensorType(float32, matrix)> ''   \n |       |   | |sigmoid [id CF] <TensorType(float32, matrix)> ''   \n |       |   | | |Elemwise{add,no_inplace} [id CG] <TensorType(float32, matrix)> ''   \n |       |   | |   |Dot22 [id CH] <TensorType(float32, matrix)> ''   \n |       |   | |   | |Subtensor{int64} [id CI] <TensorType(float32, matrix)> ''   \n |       |   | |   | | |InplaceDimShuffle{1,0,2} [id N] <TensorType(float32, 3D)> ''   \n |       |   | |   | | |Constant{4} [id CJ] <int64>\n |       |   | |   | |dense1.W [id Z] <TensorType(float32, matrix)>\n |       |   | |   |InplaceDimShuffle{x,0} [id BA] <TensorType(float32, row)> ''   \n |       |   | |q-evaluator layer.W [id BC] <TensorType(float32, matrix)>\n |       |   |q-evaluator layer.b [id BD] <TensorType(float32, vector)>\n |       |InplaceDimShuffle{x,0,1} [id CK] <TensorType(float32, (True, False, False))> ''   \n |       | |SoftmaxWithBias [id CL] <TensorType(float32, matrix)> ''   \n |       |   |Dot22 [id CM] <TensorType(float32, matrix)> ''   \n |       |   | |sigmoid [id CN] <TensorType(float32, matrix)> ''   \n |       |   | | |Elemwise{add,no_inplace} [id CO] <TensorType(float32, matrix)> ''   \n |       |   | |   |Dot22 [id CP] <TensorType(float32, matrix)> ''   \n |       |   | |   | |Subtensor{int64} [id CQ] <TensorType(float32, matrix)> ''   \n |       |   | |   | | |InplaceDimShuffle{1,0,2} [id N] <TensorType(float32, 3D)> ''   \n |       |   | |   | | |Constant{5} [id CR] <int64>\n |       |   | |   | |dense1.W [id Z] <TensorType(float32, matrix)>\n |       |   | |   |InplaceDimShuffle{x,0} [id BA] <TensorType(float32, row)> ''   \n |       |   | |q-evaluator layer.W [id BC] <TensorType(float32, matrix)>\n |       |   |q-evaluator layer.b [id BD] <TensorType(float32, vector)>\n |       |InplaceDimShuffle{x,0,1} [id CS] <TensorType(float32, (True, False, False))> ''   \n |       | |SoftmaxWithBias [id CT] <TensorType(float32, matrix)> ''   \n |       |   |Dot22 [id CU] <TensorType(float32, matrix)> ''   \n |       |   | |sigmoid [id CV] <TensorType(float32, matrix)> ''   \n |       |   | | |Elemwise{add,no_inplace} [id CW] <TensorType(float32, matrix)> ''   \n |       |   | |   |Dot22 [id CX] <TensorType(float32, matrix)> ''   \n |       |   | |   | |Subtensor{int64} [id CY] <TensorType(float32, matrix)> ''   \n |       |   | |   | | |InplaceDimShuffle{1,0,2} [id N] <TensorType(float32, 3D)> ''   \n |       |   | |   | | |Constant{6} [id CZ] <int64>\n |       |   | |   | |dense1.W [id Z] <TensorType(float32, matrix)>\n |       |   | |   |InplaceDimShuffle{x,0} [id BA] <TensorType(float32, row)> ''   \n |       |   | |q-evaluator layer.W [id BC] <TensorType(float32, matrix)>\n |       |   |q-evaluator layer.b [id BD] <TensorType(float32, vector)>\n |       |InplaceDimShuffle{x,0,1} [id DA] <TensorType(float32, (True, False, False))> ''   \n |       | |SoftmaxWithBias [id DB] <TensorType(float32, matrix)> ''   \n |       |   |Dot22 [id DC] <TensorType(float32, matrix)> ''   \n |       |   | |sigmoid [id DD] <TensorType(float32, matrix)> ''   \n |       |   | | |Elemwise{add,no_inplace} [id DE] <TensorType(float32, matrix)> ''   \n |       |   | |   |Dot22 [id DF] <TensorType(float32, matrix)> ''   \n |       |   | |   | |Subtensor{int64} [id DG] <TensorType(float32, matrix)> ''   \n |       |   | |   | | |InplaceDimShuffle{1,0,2} [id N] <TensorType(float32, 3D)> ''   \n |       |   | |   | | |Constant{7} [id DH] <int64>\n |       |   | |   | |dense1.W [id Z] <TensorType(float32, matrix)>\n |       |   | |   |InplaceDimShuffle{x,0} [id BA] <TensorType(float32, row)> ''   \n |       |   | |q-evaluator layer.W [id BC] <TensorType(float32, matrix)>\n |       |   |q-evaluator layer.b [id BD] <TensorType(float32, vector)>\n |       |InplaceDimShuffle{x,0,1} [id DI] <TensorType(float32, (True, False, False))> ''   \n |       | |SoftmaxWithBias [id DJ] <TensorType(float32, matrix)> ''   \n |       |   |Dot22 [id DK] <TensorType(float32, matrix)> ''   \n |       |   | |sigmoid [id DL] <TensorType(float32, matrix)> ''   \n |       |   | | |Elemwise{add,no_inplace} [id DM] <TensorType(float32, matrix)> ''   \n |       |   | |   |Dot22 [id DN] <TensorType(float32, matrix)> ''   \n |       |   | |   | |Subtensor{int64} [id DO] <TensorType(float32, matrix)> ''   \n |       |   | |   | | |InplaceDimShuffle{1,0,2} [id N] <TensorType(float32, 3D)> ''   \n |       |   | |   | | |Constant{8} [id DP] <int64>\n |       |   | |   | |dense1.W [id Z] <TensorType(float32, matrix)>\n |       |   | |   |InplaceDimShuffle{x,0} [id BA] <TensorType(float32, row)> ''   \n |       |   | |q-evaluator layer.W [id BC] <TensorType(float32, matrix)>\n |       |   |q-evaluator layer.b [id BD] <TensorType(float32, vector)>\n |       |InplaceDimShuffle{x,0,1} [id DQ] <TensorType(float32, (True, False, False))> ''   \n |       | |SoftmaxWithBias [id DR] <TensorType(float32, matrix)> ''   \n |       |   |Dot22 [id DS] <TensorType(float32, matrix)> ''   \n |       |   | |sigmoid [id DT] <TensorType(float32, matrix)> ''   \n |       |   | | |Elemwise{add,no_inplace} [id DU] <TensorType(float32, matrix)> ''   \n |       |   | |   |Dot22 [id DV] <TensorType(float32, matrix)> ''   \n |       |   | |   | |Subtensor{int64} [id DW] <TensorType(float32, matrix)> ''   \n |       |   | |   | | |InplaceDimShuffle{1,0,2} [id N] <TensorType(float32, 3D)> ''   \n |       |   | |   | | |Constant{9} [id DX] <int64>\n |       |   | |   | |dense1.W [id Z] <TensorType(float32, matrix)>\n |       |   | |   |InplaceDimShuffle{x,0} [id BA] <TensorType(float32, row)> ''   \n |       |   | |q-evaluator layer.W [id BC] <TensorType(float32, matrix)>\n |       |   |q-evaluator layer.b [id BD] <TensorType(float32, vector)>\n |       |InplaceDimShuffle{x,0,1} [id DY] <TensorType(float32, (True, False, False))> ''   \n |       | |SoftmaxWithBias [id DZ] <TensorType(float32, matrix)> ''   \n |       |   |Dot22 [id EA] <TensorType(float32, matrix)> ''   \n |       |   | |sigmoid [id EB] <TensorType(float32, matrix)> ''   \n |       |   | | |Elemwise{add,no_inplace} [id EC] <TensorType(float32, matrix)> ''   \n |       |   | |   |Dot22 [id ED] <TensorType(float32, matrix)> ''   \n |       |   | |   | |Subtensor{int64} [id EE] <TensorType(float32, matrix)> ''   \n |       |   | |   | | |InplaceDimShuffle{1,0,2} [id N] <TensorType(float32, 3D)> ''   \n |       |   | |   | | |Constant{10} [id EF] <int64>\n |       |   | |   | |dense1.W [id Z] <TensorType(float32, matrix)>\n |       |   | |   |InplaceDimShuffle{x,0} [id BA] <TensorType(float32, row)> ''   \n |       |   | |q-evaluator layer.W [id BC] <TensorType(float32, matrix)>\n |       |   |q-evaluator layer.b [id BD] <TensorType(float32, vector)>\n |       |InplaceDimShuffle{x,0,1} [id EG] <TensorType(float32, (True, False, False))> ''   \n |       | |SoftmaxWithBias [id EH] <TensorType(float32, matrix)> ''   \n |       |   |Dot22 [id EI] <TensorType(float32, matrix)> ''   \n |       |   | |sigmoid [id EJ] <TensorType(float32, matrix)> ''   \n |       |   | | |Elemwise{add,no_inplace} [id EK] <TensorType(float32, matrix)> ''   \n |       |   | |   |Dot22 [id EL] <TensorType(float32, matrix)> ''   \n |       |   | |   | |Subtensor{int64} [id EM] <TensorType(float32, matrix)> ''   \n |       |   | |   | | |InplaceDimShuffle{1,0,2} [id N] <TensorType(float32, 3D)> ''   \n |       |   | |   | | |Constant{11} [id EN] <int64>\n |       |   | |   | |dense1.W [id Z] <TensorType(float32, matrix)>\n |       |   | |   |InplaceDimShuffle{x,0} [id BA] <TensorType(float32, row)> ''   \n |       |   | |q-evaluator layer.W [id BC] <TensorType(float32, matrix)>\n |       |   |q-evaluator layer.b [id BD] <TensorType(float32, vector)>\n |       |InplaceDimShuffle{x,0,1} [id EO] <TensorType(float32, (True, False, False))> ''   \n |       | |SoftmaxWithBias [id EP] <TensorType(float32, matrix)> ''   \n |       |   |Dot22 [id EQ] <TensorType(float32, matrix)> ''   \n |       |   | |sigmoid [id ER] <TensorType(float32, matrix)> ''   \n |       |   | | |Elemwise{add,no_inplace} [id ES] <TensorType(float32, matrix)> ''   \n |       |   | |   |Dot22 [id ET] <TensorType(float32, matrix)> ''   \n |       |   | |   | |Subtensor{int64} [id EU] <TensorType(float32, matrix)> ''   \n |       |   | |   | | |InplaceDimShuffle{1,0,2} [id N] <TensorType(float32, 3D)> ''   \n |       |   | |   | | |Constant{12} [id EV] <int64>\n |       |   | |   | |dense1.W [id Z] <TensorType(float32, matrix)>\n |       |   | |   |InplaceDimShuffle{x,0} [id BA] <TensorType(float32, row)> ''   \n |       |   | |q-evaluator layer.W [id BC] <TensorType(float32, matrix)>\n |       |   |q-evaluator layer.b [id BD] <TensorType(float32, vector)>\n |       |InplaceDimShuffle{x,0,1} [id EW] <TensorType(float32, (True, False, False))> ''   \n |       | |SoftmaxWithBias [id EX] <TensorType(float32, matrix)> ''   \n |       |   |Dot22 [id EY] <TensorType(float32, matrix)> ''   \n |       |   | |sigmoid [id EZ] <TensorType(float32, matrix)> ''   \n |       |   | | |Elemwise{add,no_inplace} [id FA] <TensorType(float32, matrix)> ''   \n |       |   | |   |Dot22 [id FB] <TensorType(float32, matrix)> ''   \n |       |   | |   | |Subtensor{int64} [id FC] <TensorType(float32, matrix)> ''   \n |       |   | |   | | |InplaceDimShuffle{1,0,2} [id N] <TensorType(float32, 3D)> ''   \n |       |   | |   | | |Constant{13} [id FD] <int64>\n |       |   | |   | |dense1.W [id Z] <TensorType(float32, matrix)>\n |       |   | |   |InplaceDimShuffle{x,0} [id BA] <TensorType(float32, row)> ''   \n |       |   | |q-evaluator layer.W [id BC] <TensorType(float32, matrix)>\n |       |   |q-evaluator layer.b [id BD] <TensorType(float32, vector)>\n |       |InplaceDimShuffle{x,0,1} [id FE] <TensorType(float32, (True, False, False))> ''   \n |       | |SoftmaxWithBias [id FF] <TensorType(float32, matrix)> ''   \n |       |   |Dot22 [id FG] <TensorType(float32, matrix)> ''   \n |       |   | |sigmoid [id FH] <TensorType(float32, matrix)> ''   \n |       |   | | |Elemwise{add,no_inplace} [id FI] <TensorType(float32, matrix)> ''   \n |       |   | |   |Dot22 [id FJ] <TensorType(float32, matrix)> ''   \n |       |   | |   | |Subtensor{int64} [id FK] <TensorType(float32, matrix)> ''   \n |       |   | |   | | |InplaceDimShuffle{1,0,2} [id N] <TensorType(float32, 3D)> ''   \n |       |   | |   | | |Constant{14} [id FL] <int64>\n |       |   | |   | |dense1.W [id Z] <TensorType(float32, matrix)>\n |       |   | |   |InplaceDimShuffle{x,0} [id BA] <TensorType(float32, row)> ''   \n |       |   | |q-evaluator layer.W [id BC] <TensorType(float32, matrix)>\n |       |   |q-evaluator layer.b [id BD] <TensorType(float32, vector)>\n |       |InplaceDimShuffle{x,0,1} [id FM] <TensorType(float32, (True, False, False))> ''   \n |       | |SoftmaxWithBias [id FN] <TensorType(float32, matrix)> ''   \n |       |   |Dot22 [id FO] <TensorType(float32, matrix)> ''   \n |       |   | |sigmoid [id FP] <TensorType(float32, matrix)> ''   \n |       |   | | |Elemwise{add,no_inplace} [id FQ] <TensorType(float32, matrix)> ''   \n |       |   | |   |Dot22 [id FR] <TensorType(float32, matrix)> ''   \n |       |   | |   | |Subtensor{int64} [id FS] <TensorType(float32, matrix)> ''   \n |       |   | |   | | |InplaceDimShuffle{1,0,2} [id N] <TensorType(float32, 3D)> ''   \n |       |   | |   | | |Constant{15} [id FT] <int64>\n |       |   | |   | |dense1.W [id Z] <TensorType(float32, matrix)>\n |       |   | |   |InplaceDimShuffle{x,0} [id BA] <TensorType(float32, row)> ''   \n |       |   | |q-evaluator layer.W [id BC] <TensorType(float32, matrix)>\n |       |   |q-evaluator layer.b [id BD] <TensorType(float32, vector)>\n |       |InplaceDimShuffle{x,0,1} [id FU] <TensorType(float32, (True, False, False))> ''   \n |       | |SoftmaxWithBias [id FV] <TensorType(float32, matrix)> ''   \n |       |   |Dot22 [id FW] <TensorType(float32, matrix)> ''   \n |       |   | |sigmoid [id FX] <TensorType(float32, matrix)> ''   \n |       |   | | |Elemwise{add,no_inplace} [id FY] <TensorType(float32, matrix)> ''   \n |       |   | |   |Dot22 [id FZ] <TensorType(float32, matrix)> ''   \n |       |   | |   | |Subtensor{int64} [id GA] <TensorType(float32, matrix)> ''   \n |       |   | |   | | |InplaceDimShuffle{1,0,2} [id N] <TensorType(float32, 3D)> ''   \n |       |   | |   | | |Constant{16} [id GB] <int64>\n |       |   | |   | |dense1.W [id Z] <TensorType(float32, matrix)>\n |       |   | |   |InplaceDimShuffle{x,0} [id BA] <TensorType(float32, row)> ''   \n |       |   | |q-evaluator layer.W [id BC] <TensorType(float32, matrix)>\n |       |   |q-evaluator layer.b [id BD] <TensorType(float32, vector)>\n |       |InplaceDimShuffle{x,0,1} [id GC] <TensorType(float32, (True, False, False))> ''   \n |       | |SoftmaxWithBias [id GD] <TensorType(float32, matrix)> ''   \n |       |   |Dot22 [id GE] <TensorType(float32, matrix)> ''   \n |       |   | |sigmoid [id GF] <TensorType(float32, matrix)> ''   \n |       |   | | |Elemwise{add,no_inplace} [id GG] <TensorType(float32, matrix)> ''   \n |       |   | |   |Dot22 [id GH] <TensorType(float32, matrix)> ''   \n |       |   | |   | |Subtensor{int64} [id GI] <TensorType(float32, matrix)> ''   \n |       |   | |   | | |InplaceDimShuffle{1,0,2} [id N] <TensorType(float32, 3D)> ''   \n |       |   | |   | | |Constant{17} [id GJ] <int64>\n |       |   | |   | |dense1.W [id Z] <TensorType(float32, matrix)>\n |       |   | |   |InplaceDimShuffle{x,0} [id BA] <TensorType(float32, row)> ''   \n |       |   | |q-evaluator layer.W [id BC] <TensorType(float32, matrix)>\n |       |   |q-evaluator layer.b [id BD] <TensorType(float32, vector)>\n |       |InplaceDimShuffle{x,0,1} [id GK] <TensorType(float32, (True, False, False))> ''   \n |       | |SoftmaxWithBias [id GL] <TensorType(float32, matrix)> ''   \n |       |   |Dot22 [id GM] <TensorType(float32, matrix)> ''   \n |       |   | |sigmoid [id GN] <TensorType(float32, matrix)> ''   \n |       |   | | |Elemwise{add,no_inplace} [id GO] <TensorType(float32, matrix)> ''   \n |       |   | |   |Dot22 [id GP] <TensorType(float32, matrix)> ''   \n |       |   | |   | |Subtensor{int64} [id GQ] <TensorType(float32, matrix)> ''   \n |       |   | |   | | |InplaceDimShuffle{1,0,2} [id N] <TensorType(float32, 3D)> ''   \n |       |   | |   | | |Constant{18} [id GR] <int64>\n |       |   | |   | |dense1.W [id Z] <TensorType(float32, matrix)>\n |       |   | |   |InplaceDimShuffle{x,0} [id BA] <TensorType(float32, row)> ''   \n |       |   | |q-evaluator layer.W [id BC] <TensorType(float32, matrix)>\n |       |   |q-evaluator layer.b [id BD] <TensorType(float32, vector)>\n |       |InplaceDimShuffle{x,0,1} [id GS] <TensorType(float32, (True, False, False))> ''   \n |       | |SoftmaxWithBias [id GT] <TensorType(float32, matrix)> ''   \n |       |   |Dot22 [id GU] <TensorType(float32, matrix)> ''   \n |       |   | |sigmoid [id GV] <TensorType(float32, matrix)> ''   \n |       |   | | |Elemwise{add,no_inplace} [id GW] <TensorType(float32, matrix)> ''   \n |       |   | |   |Dot22 [id GX] <TensorType(float32, matrix)> ''   \n |       |   | |   | |Subtensor{int64} [id GY] <TensorType(float32, matrix)> ''   \n |       |   | |   | | |InplaceDimShuffle{1,0,2} [id N] <TensorType(float32, 3D)> ''   \n |       |   | |   | | |Constant{19} [id GZ] <int64>\n |       |   | |   | |dense1.W [id Z] <TensorType(float32, matrix)>\n |       |   | |   |InplaceDimShuffle{x,0} [id BA] <TensorType(float32, row)> ''   \n |       |   | |q-evaluator layer.W [id BC] <TensorType(float32, matrix)>\n |       |   |q-evaluator layer.b [id BD] <TensorType(float32, vector)>\n |       |InplaceDimShuffle{x,0,1} [id HA] <TensorType(float32, (True, False, False))> ''   \n |       | |SoftmaxWithBias [id HB] <TensorType(float32, matrix)> ''   \n |       |   |Dot22 [id HC] <TensorType(float32, matrix)> ''   \n |       |   | |sigmoid [id HD] <TensorType(float32, matrix)> ''   \n |       |   | | |Elemwise{add,no_inplace} [id HE] <TensorType(float32, matrix)> ''   \n |       |   | |   |Dot22 [id HF] <TensorType(float32, matrix)> ''   \n |       |   | |   | |Subtensor{int64} [id HG] <TensorType(float32, matrix)> ''   \n |       |   | |   | | |InplaceDimShuffle{1,0,2} [id N] <TensorType(float32, 3D)> ''   \n |       |   | |   | | |Constant{20} [id HH] <int64>\n |       |   | |   | |dense1.W [id Z] <TensorType(float32, matrix)>\n |       |   | |   |InplaceDimShuffle{x,0} [id BA] <TensorType(float32, row)> ''   \n |       |   | |q-evaluator layer.W [id BC] <TensorType(float32, matrix)>\n |       |   |q-evaluator layer.b [id BD] <TensorType(float32, vector)>\n |       |InplaceDimShuffle{x,0,1} [id HI] <TensorType(float32, (True, False, False))> ''   \n |       | |SoftmaxWithBias [id HJ] <TensorType(float32, matrix)> ''   \n |       |   |Dot22 [id HK] <TensorType(float32, matrix)> ''   \n |       |   | |sigmoid [id HL] <TensorType(float32, matrix)> ''   \n |       |   | | |Elemwise{add,no_inplace} [id HM] <TensorType(float32, matrix)> ''   \n |       |   | |   |Dot22 [id HN] <TensorType(float32, matrix)> ''   \n |       |   | |   | |Subtensor{int64} [id HO] <TensorType(float32, matrix)> ''   \n |       |   | |   | | |InplaceDimShuffle{1,0,2} [id N] <TensorType(float32, 3D)> ''   \n |       |   | |   | | |Constant{21} [id HP] <int64>\n |       |   | |   | |dense1.W [id Z] <TensorType(float32, matrix)>\n |       |   | |   |InplaceDimShuffle{x,0} [id BA] <TensorType(float32, row)> ''   \n |       |   | |q-evaluator layer.W [id BC] <TensorType(float32, matrix)>\n |       |   |q-evaluator layer.b [id BD] <TensorType(float32, vector)>\n |       |InplaceDimShuffle{x,0,1} [id HQ] <TensorType(float32, (True, False, False))> ''   \n |       | |SoftmaxWithBias [id HR] <TensorType(float32, matrix)> ''   \n |       |   |Dot22 [id HS] <TensorType(float32, matrix)> ''   \n |       |   | |sigmoid [id HT] <TensorType(float32, matrix)> ''   \n |       |   | | |Elemwise{add,no_inplace} [id HU] <TensorType(float32, matrix)> ''   \n |       |   | |   |Dot22 [id HV] <TensorType(float32, matrix)> ''   \n |       |   | |   | |Subtensor{int64} [id HW] <TensorType(float32, matrix)> ''   \n |       |   | |   | | |InplaceDimShuffle{1,0,2} [id N] <TensorType(float32, 3D)> ''   \n |       |   | |   | | |Constant{22} [id HX] <int64>\n |       |   | |   | |dense1.W [id Z] <TensorType(float32, matrix)>\n |       |   | |   |InplaceDimShuffle{x,0} [id BA] <TensorType(float32, row)> ''   \n |       |   | |q-evaluator layer.W [id BC] <TensorType(float32, matrix)>\n |       |   |q-evaluator layer.b [id BD] <TensorType(float32, vector)>\n |       |InplaceDimShuffle{x,0,1} [id HY] <TensorType(float32, (True, False, False))> ''   \n |       | |SoftmaxWithBias [id HZ] <TensorType(float32, matrix)> ''   \n |       |   |Dot22 [id IA] <TensorType(float32, matrix)> ''   \n |       |   | |sigmoid [id IB] <TensorType(float32, matrix)> ''   \n |       |   | | |Elemwise{add,no_inplace} [id IC] <TensorType(float32, matrix)> ''   \n |       |   | |   |Dot22 [id ID] <TensorType(float32, matrix)> ''   \n |       |   | |   | |Subtensor{int64} [id IE] <TensorType(float32, matrix)> ''   \n |       |   | |   | | |InplaceDimShuffle{1,0,2} [id N] <TensorType(float32, 3D)> ''   \n |       |   | |   | | |Constant{23} [id IF] <int64>\n |       |   | |   | |dense1.W [id Z] <TensorType(float32, matrix)>\n |       |   | |   |InplaceDimShuffle{x,0} [id BA] <TensorType(float32, row)> ''   \n |       |   | |q-evaluator layer.W [id BC] <TensorType(float32, matrix)>\n |       |   |q-evaluator layer.b [id BD] <TensorType(float32, vector)>\n |       |InplaceDimShuffle{x,0,1} [id IG] <TensorType(float32, (True, False, False))> ''   \n |         |SoftmaxWithBias [id IH] <TensorType(float32, matrix)> ''   \n |           |Dot22 [id II] <TensorType(float32, matrix)> ''   \n |           | |sigmoid [id IJ] <TensorType(float32, matrix)> ''   \n |           | | |Elemwise{add,no_inplace} [id IK] <TensorType(float32, matrix)> ''   \n |           | |   |Dot22 [id IL] <TensorType(float32, matrix)> ''   \n |           | |   | |Subtensor{int64} [id IM] <TensorType(float32, matrix)> ''   \n |           | |   | | |InplaceDimShuffle{1,0,2} [id N] <TensorType(float32, 3D)> ''   \n |           | |   | | |Constant{24} [id IN] <int64>\n |           | |   | |dense1.W [id Z] <TensorType(float32, matrix)>\n |           | |   |InplaceDimShuffle{x,0} [id BA] <TensorType(float32, row)> ''   \n |           | |q-evaluator layer.W [id BC] <TensorType(float32, matrix)>\n |           |q-evaluator layer.b [id BD] <TensorType(float32, vector)>\n |InplaceDimShuffle{0,x} [id IO] <TensorType(int64, col)> ''   \n | |ARange{dtype='int64'} [id IP] <TensorType(int64, vector)> ''   \n |   |TensorConstant{0} [id F] <TensorType(int8, scalar)>\n |   |Subtensor{int64} [id IQ] <TensorType(int64, scalar)> ''   \n |   | |Shape [id IR] <TensorType(int64, vector)> ''   \n |   | | |Elemwise{log,no_inplace} [id B] <TensorType(float32, 3D)> ''   \n |   | |Constant{0} [id W] <int64>\n |   |TensorConstant{1} [id X] <TensorType(int8, scalar)>\n |InplaceDimShuffle{x,0} [id IS] <TensorType(int64, row)> ''   \n | |ARange{dtype='int64'} [id IT] <TensorType(int64, vector)> ''   \n |   |TensorConstant{0} [id F] <TensorType(int8, scalar)>\n |   |Subtensor{int64} [id IU] <TensorType(int64, scalar)> ''   \n |   | |Shape [id IR] <TensorType(int64, vector)> ''   \n |   | |Constant{1} [id BL] <int64>\n |   |TensorConstant{1} [id X] <TensorType(int8, scalar)>\n |AdvancedSubtensor1 [id IV] <TensorType(int32, 3D)> ''   \n   |session.actions_history.0 [id IW] <TensorType(int32, 3D)>\n   |RandomFunction{choice_helper}.1 [id Q] <TensorType(int32, vector)> ''   \n\nStorage map footprint:\n - Print{message='>>>> policy_seq; ', attrs=('__str__',), global_fn=<function _print_fn at 0x7f6ce6096a60>}.0, Shape: (100, 25, 6), ElemSize: 4 Byte(s), TotalSize: 60000 Byte(s)\n - Elemwise{log,no_inplace}.0, Shape: (100, 25, 6), ElemSize: 4 Byte(s), TotalSize: 60000 Byte(s)\n - sessions.observations_history.0, Shared Input, Shape: (111, 25, 2), ElemSize: 4 Byte(s), TotalSize: 22200 Byte(s)\n - session.actions_history.0, Shared Input, Shape: (111, 25, 2), ElemSize: 4 Byte(s), TotalSize: 22200 Byte(s)\n - AdvancedSubtensor1.0, Shape: (100, 25, 2), ElemSize: 4 Byte(s), TotalSize: 20000 Byte(s)\n - session.rewards_history, Shared Input, Shape: (111, 25), ElemSize: 4 Byte(s), TotalSize: 11100 Byte(s)\n - sigmoid.0, Shape: (100, 10), ElemSize: 4 Byte(s), TotalSize: 4000 Byte(s)\n - sigmoid.0, Shape: (100, 10), ElemSize: 4 Byte(s), TotalSize: 4000 Byte(s)\n - sigmoid.0, Shape: (100, 10), ElemSize: 4 Byte(s), TotalSize: 4000 Byte(s)\n - sigmoid.0, Shape: (100, 10), ElemSize: 4 Byte(s), TotalSize: 4000 Byte(s)\n - sigmoid.0, Shape: (100, 10), ElemSize: 4 Byte(s), TotalSize: 4000 Byte(s)\n - sigmoid.0, Shape: (100, 10), ElemSize: 4 Byte(s), TotalSize: 4000 Byte(s)\n - sigmoid.0, Shape: (100, 10), ElemSize: 4 Byte(s), TotalSize: 4000 Byte(s)\n - sigmoid.0, Shape: (100, 10), ElemSize: 4 Byte(s), TotalSize: 4000 Byte(s)\n - sigmoid.0, Shape: (100, 10), ElemSize: 4 Byte(s), TotalSize: 4000 Byte(s)\n - sigmoid.0, Shape: (100, 10), ElemSize: 4 Byte(s), TotalSize: 4000 Byte(s)\n - sigmoid.0, Shape: (100, 10), ElemSize: 4 Byte(s), TotalSize: 4000 Byte(s)\n - sigmoid.0, Shape: (100, 10), ElemSize: 4 Byte(s), TotalSize: 4000 Byte(s)\n - sigmoid.0, Shape: (100, 10), ElemSize: 4 Byte(s), TotalSize: 4000 Byte(s)\n - sigmoid.0, Shape: (100, 10), ElemSize: 4 Byte(s), TotalSize: 4000 Byte(s)\n - sigmoid.0, Shape: (100, 10), ElemSize: 4 Byte(s), TotalSize: 4000 Byte(s)\n - sigmoid.0, Shape: (100, 10), ElemSize: 4 Byte(s), TotalSize: 4000 Byte(s)\n - sigmoid.0, Shape: (100, 10), ElemSize: 4 Byte(s), TotalSize: 4000 Byte(s)\n - sigmoid.0, Shape: (100, 10), ElemSize: 4 Byte(s), TotalSize: 4000 Byte(s)\n - sigmoid.0, Shape: (100, 10), ElemSize: 4 Byte(s), TotalSize: 4000 Byte(s)\n - sigmoid.0, Shape: (100, 10), ElemSize: 4 Byte(s), TotalSize: 4000 Byte(s)\n - sigmoid.0, Shape: (100, 10), ElemSize: 4 Byte(s), TotalSize: 4000 Byte(s)\n - sigmoid.0, Shape: (100, 10), ElemSize: 4 Byte(s), TotalSize: 4000 Byte(s)\n - sigmoid.0, Shape: (100, 10), ElemSize: 4 Byte(s), TotalSize: 4000 Byte(s)\n - sigmoid.0, Shape: (100, 10), ElemSize: 4 Byte(s), TotalSize: 4000 Byte(s)\n - sigmoid.0, Shape: (100, 10), ElemSize: 4 Byte(s), TotalSize: 4000 Byte(s)\n - session.is_alive, Shared Input, Shape: (111, 25), ElemSize: 1 Byte(s), TotalSize: 2775 Byte(s)\n - SoftmaxWithBias.0, Shape: (100, 6), ElemSize: 4 Byte(s), TotalSize: 2400 Byte(s)\n - SoftmaxWithBias.0, Shape: (100, 6), ElemSize: 4 Byte(s), TotalSize: 2400 Byte(s)\n - SoftmaxWithBias.0, Shape: (100, 6), ElemSize: 4 Byte(s), TotalSize: 2400 Byte(s)\n - SoftmaxWithBias.0, Shape: (100, 6), ElemSize: 4 Byte(s), TotalSize: 2400 Byte(s)\n - SoftmaxWithBias.0, Shape: (100, 6), ElemSize: 4 Byte(s), TotalSize: 2400 Byte(s)\n - SoftmaxWithBias.0, Shape: (100, 6), ElemSize: 4 Byte(s), TotalSize: 2400 Byte(s)\n - SoftmaxWithBias.0, Shape: (100, 6), ElemSize: 4 Byte(s), TotalSize: 2400 Byte(s)\n - SoftmaxWithBias.0, Shape: (100, 6), ElemSize: 4 Byte(s), TotalSize: 2400 Byte(s)\n - SoftmaxWithBias.0, Shape: (100, 6), ElemSize: 4 Byte(s), TotalSize: 2400 Byte(s)\n - SoftmaxWithBias.0, Shape: (100, 6), ElemSize: 4 Byte(s), TotalSize: 2400 Byte(s)\n - SoftmaxWithBias.0, Shape: (100, 6), ElemSize: 4 Byte(s), TotalSize: 2400 Byte(s)\n - SoftmaxWithBias.0, Shape: (100, 6), ElemSize: 4 Byte(s), TotalSize: 2400 Byte(s)\n - SoftmaxWithBias.0, Shape: (100, 6), ElemSize: 4 Byte(s), TotalSize: 2400 Byte(s)\n - SoftmaxWithBias.0, Shape: (100, 6), ElemSize: 4 Byte(s), TotalSize: 2400 Byte(s)\n - SoftmaxWithBias.0, Shape: (100, 6), ElemSize: 4 Byte(s), TotalSize: 2400 Byte(s)\n - SoftmaxWithBias.0, Shape: (100, 6), ElemSize: 4 Byte(s), TotalSize: 2400 Byte(s)\n - SoftmaxWithBias.0, Shape: (100, 6), ElemSize: 4 Byte(s), TotalSize: 2400 Byte(s)\n - SoftmaxWithBias.0, Shape: (100, 6), ElemSize: 4 Byte(s), TotalSize: 2400 Byte(s)\n - SoftmaxWithBias.0, Shape: (100, 6), ElemSize: 4 Byte(s), TotalSize: 2400 Byte(s)\n - SoftmaxWithBias.0, Shape: (100, 6), ElemSize: 4 Byte(s), TotalSize: 2400 Byte(s)\n - SoftmaxWithBias.0, Shape: (100, 6), ElemSize: 4 Byte(s), TotalSize: 2400 Byte(s)\n - SoftmaxWithBias.0, Shape: (100, 6), ElemSize: 4 Byte(s), TotalSize: 2400 Byte(s)\n - SoftmaxWithBias.0, Shape: (100, 6), ElemSize: 4 Byte(s), TotalSize: 2400 Byte(s)\n - SoftmaxWithBias.0, Shape: (100, 6), ElemSize: 4 Byte(s), TotalSize: 2400 Byte(s)\n - SoftmaxWithBias.0, Shape: (100, 6), ElemSize: 4 Byte(s), TotalSize: 2400 Byte(s)\n - InplaceDimShuffle{x,0,1}.0, Shape: (1, 100, 6), ElemSize: 4 Byte(s), TotalSize: 2400 Byte(s)\n - InplaceDimShuffle{x,0,1}.0, Shape: (1, 100, 6), ElemSize: 4 Byte(s), TotalSize: 2400 Byte(s)\n - InplaceDimShuffle{x,0,1}.0, Shape: (1, 100, 6), ElemSize: 4 Byte(s), TotalSize: 2400 Byte(s)\n - InplaceDimShuffle{x,0,1}.0, Shape: (1, 100, 6), ElemSize: 4 Byte(s), TotalSize: 2400 Byte(s)\n - InplaceDimShuffle{x,0,1}.0, Shape: (1, 100, 6), ElemSize: 4 Byte(s), TotalSize: 2400 Byte(s)\n - InplaceDimShuffle{x,0,1}.0, Shape: (1, 100, 6), ElemSize: 4 Byte(s), TotalSize: 2400 Byte(s)\n - InplaceDimShuffle{x,0,1}.0, Shape: (1, 100, 6), ElemSize: 4 Byte(s), TotalSize: 2400 Byte(s)\n - InplaceDimShuffle{x,0,1}.0, Shape: (1, 100, 6), ElemSize: 4 Byte(s), TotalSize: 2400 Byte(s)\n - InplaceDimShuffle{x,0,1}.0, Shape: (1, 100, 6), ElemSize: 4 Byte(s), TotalSize: 2400 Byte(s)\n - InplaceDimShuffle{x,0,1}.0, Shape: (1, 100, 6), ElemSize: 4 Byte(s), TotalSize: 2400 Byte(s)\n - InplaceDimShuffle{x,0,1}.0, Shape: (1, 100, 6), ElemSize: 4 Byte(s), TotalSize: 2400 Byte(s)\n - InplaceDimShuffle{x,0,1}.0, Shape: (1, 100, 6), ElemSize: 4 Byte(s), TotalSize: 2400 Byte(s)\n - InplaceDimShuffle{x,0,1}.0, Shape: (1, 100, 6), ElemSize: 4 Byte(s), TotalSize: 2400 Byte(s)\n - InplaceDimShuffle{x,0,1}.0, Shape: (1, 100, 6), ElemSize: 4 Byte(s), TotalSize: 2400 Byte(s)\n - InplaceDimShuffle{x,0,1}.0, Shape: (1, 100, 6), ElemSize: 4 Byte(s), TotalSize: 2400 Byte(s)\n - InplaceDimShuffle{x,0,1}.0, Shape: (1, 100, 6), ElemSize: 4 Byte(s), TotalSize: 2400 Byte(s)\n - InplaceDimShuffle{x,0,1}.0, Shape: (1, 100, 6), ElemSize: 4 Byte(s), TotalSize: 2400 Byte(s)\n - InplaceDimShuffle{x,0,1}.0, Shape: (1, 100, 6), ElemSize: 4 Byte(s), TotalSize: 2400 Byte(s)\n - InplaceDimShuffle{x,0,1}.0, Shape: (1, 100, 6), ElemSize: 4 Byte(s), TotalSize: 2400 Byte(s)\n - InplaceDimShuffle{x,0,1}.0, Shape: (1, 100, 6), ElemSize: 4 Byte(s), TotalSize: 2400 Byte(s)\n - InplaceDimShuffle{x,0,1}.0, Shape: (1, 100, 6), ElemSize: 4 Byte(s), TotalSize: 2400 Byte(s)\n - InplaceDimShuffle{x,0,1}.0, Shape: (1, 100, 6), ElemSize: 4 Byte(s), TotalSize: 2400 Byte(s)\n - InplaceDimShuffle{x,0,1}.0, Shape: (1, 100, 6), ElemSize: 4 Byte(s), TotalSize: 2400 Byte(s)\n - InplaceDimShuffle{x,0,1}.0, Shape: (1, 100, 6), ElemSize: 4 Byte(s), TotalSize: 2400 Byte(s)\n - InplaceDimShuffle{x,0,1}.0, Shape: (1, 100, 6), ElemSize: 4 Byte(s), TotalSize: 2400 Byte(s)\n - Subtensor{int64}.0, Shape: (100, 2), ElemSize: 4 Byte(s), TotalSize: 800 Byte(s)\n - Subtensor{int64}.0, Shape: (100, 2), ElemSize: 4 Byte(s), TotalSize: 800 Byte(s)\n - Subtensor{int64}.0, Shape: (100, 2), ElemSize: 4 Byte(s), TotalSize: 800 Byte(s)\n - Subtensor{int64}.0, Shape: (100, 2), ElemSize: 4 Byte(s), TotalSize: 800 Byte(s)\n - Subtensor{int64}.0, Shape: (100, 2), ElemSize: 4 Byte(s), TotalSize: 800 Byte(s)\n - Subtensor{int64}.0, Shape: (100, 2), ElemSize: 4 Byte(s), TotalSize: 800 Byte(s)\n - Subtensor{int64}.0, Shape: (100, 2), ElemSize: 4 Byte(s), TotalSize: 800 Byte(s)\n - Subtensor{int64}.0, Shape: (100, 2), ElemSize: 4 Byte(s), TotalSize: 800 Byte(s)\n - Subtensor{int64}.0, Shape: (100, 2), ElemSize: 4 Byte(s), TotalSize: 800 Byte(s)\n - Subtensor{int64}.0, Shape: (100, 2), ElemSize: 4 Byte(s), TotalSize: 800 Byte(s)\n - Subtensor{int64}.0, Shape: (100, 2), ElemSize: 4 Byte(s), TotalSize: 800 Byte(s)\n - Subtensor{int64}.0, Shape: (100, 2), ElemSize: 4 Byte(s), TotalSize: 800 Byte(s)\n - Subtensor{int64}.0, Shape: (100, 2), ElemSize: 4 Byte(s), TotalSize: 800 Byte(s)\n - Subtensor{int64}.0, Shape: (100, 2), ElemSize: 4 Byte(s), TotalSize: 800 Byte(s)\n - Subtensor{int64}.0, Shape: (100, 2), ElemSize: 4 Byte(s), TotalSize: 800 Byte(s)\n - Subtensor{int64}.0, Shape: (100, 2), ElemSize: 4 Byte(s), TotalSize: 800 Byte(s)\n - Subtensor{int64}.0, Shape: (100, 2), ElemSize: 4 Byte(s), TotalSize: 800 Byte(s)\n - Subtensor{int64}.0, Shape: (100, 2), ElemSize: 4 Byte(s), TotalSize: 800 Byte(s)\n - Subtensor{int64}.0, Shape: (100, 2), ElemSize: 4 Byte(s), TotalSize: 800 Byte(s)\n - Subtensor{int64}.0, Shape: (100, 2), ElemSize: 4 Byte(s), TotalSize: 800 Byte(s)\n - Subtensor{int64}.0, Shape: (100, 2), ElemSize: 4 Byte(s), TotalSize: 800 Byte(s)\n - Subtensor{int64}.0, Shape: (100, 2), ElemSize: 4 Byte(s), TotalSize: 800 Byte(s)\n - Subtensor{int64}.0, Shape: (100, 2), ElemSize: 4 Byte(s), TotalSize: 800 Byte(s)\n - Subtensor{int64}.0, Shape: (100, 2), ElemSize: 4 Byte(s), TotalSize: 800 Byte(s)\n - Subtensor{int64}.0, Shape: (100, 2), ElemSize: 4 Byte(s), TotalSize: 800 Byte(s)\n - InplaceDimShuffle{0,x}.0, Shape: (100, 1), ElemSize: 8 Byte(s), TotalSize: 800 Byte(s)\n - RandomFunction{choice_helper}.1, Shape: (100,), ElemSize: 4 Byte(s), TotalSize: 400 Byte(s)\n - q-evaluator layer.W, Shared Input, Shape: (10, 6), ElemSize: 4 Byte(s), TotalSize: 240 Byte(s)\n - <TensorType(float32, matrix)>, Shared Input, Shape: (10, 6), ElemSize: 4 Byte(s), TotalSize: 240 Byte(s)\n - InplaceDimShuffle{x,0}.0, Shape: (1, 25), ElemSize: 8 Byte(s), TotalSize: 200 Byte(s)\n - dense1.W, Shared Input, Shape: (2, 10), ElemSize: 4 Byte(s), TotalSize: 80 Byte(s)\n - <TensorType(float32, matrix)>, Shared Input, Shape: (2, 10), ElemSize: 4 Byte(s), TotalSize: 80 Byte(s)\n - dense1.b, Shared Input, Shape: (10,), ElemSize: 4 Byte(s), TotalSize: 40 Byte(s)\n - state values.W, Shared Input, Shape: (10, 1), ElemSize: 4 Byte(s), TotalSize: 40 Byte(s)\n - <TensorType(float32, vector)>, Shared Input, Shape: (10,), ElemSize: 4 Byte(s), TotalSize: 40 Byte(s)\n - <TensorType(float32, col)>, Shared Input, Shape: (10, 1), ElemSize: 4 Byte(s), TotalSize: 40 Byte(s)\n - q-evaluator layer.b, Shared Input, Shape: (6,), ElemSize: 4 Byte(s), TotalSize: 24 Byte(s)\n - <TensorType(float32, vector)>, Shared Input, Shape: (6,), ElemSize: 4 Byte(s), TotalSize: 24 Byte(s)\n - Constant{0}, Shape: (), ElemSize: 8 Byte(s), TotalSize: 8.0 Byte(s)\n - TensorConstant{(1,) of 100}, Shape: (1,), ElemSize: 8 Byte(s), TotalSize: 8 Byte(s)\n - Constant{24}, Shape: (), ElemSize: 8 Byte(s), TotalSize: 8.0 Byte(s)\n - Constant{23}, Shape: (), ElemSize: 8 Byte(s), TotalSize: 8.0 Byte(s)\n - Constant{22}, Shape: (), ElemSize: 8 Byte(s), TotalSize: 8.0 Byte(s)\n - Constant{21}, Shape: (), ElemSize: 8 Byte(s), TotalSize: 8.0 Byte(s)\n - Constant{20}, Shape: (), ElemSize: 8 Byte(s), TotalSize: 8.0 Byte(s)\n - Constant{19}, Shape: (), ElemSize: 8 Byte(s), TotalSize: 8.0 Byte(s)\n - Constant{18}, Shape: (), ElemSize: 8 Byte(s), TotalSize: 8.0 Byte(s)\n - Constant{17}, Shape: (), ElemSize: 8 Byte(s), TotalSize: 8.0 Byte(s)\n - Constant{16}, Shape: (), ElemSize: 8 Byte(s), TotalSize: 8.0 Byte(s)\n - Constant{15}, Shape: (), ElemSize: 8 Byte(s), TotalSize: 8.0 Byte(s)\n - Constant{14}, Shape: (), ElemSize: 8 Byte(s), TotalSize: 8.0 Byte(s)\n - Constant{13}, Shape: (), ElemSize: 8 Byte(s), TotalSize: 8.0 Byte(s)\n - Constant{12}, Shape: (), ElemSize: 8 Byte(s), TotalSize: 8.0 Byte(s)\n - Constant{11}, Shape: (), ElemSize: 8 Byte(s), TotalSize: 8.0 Byte(s)\n - Constant{10}, Shape: (), ElemSize: 8 Byte(s), TotalSize: 8.0 Byte(s)\n - Constant{9}, Shape: (), ElemSize: 8 Byte(s), TotalSize: 8.0 Byte(s)\n - Constant{8}, Shape: (), ElemSize: 8 Byte(s), TotalSize: 8.0 Byte(s)\n - Constant{7}, Shape: (), ElemSize: 8 Byte(s), TotalSize: 8.0 Byte(s)\n - Constant{6}, Shape: (), ElemSize: 8 Byte(s), TotalSize: 8.0 Byte(s)\n - Constant{5}, Shape: (), ElemSize: 8 Byte(s), TotalSize: 8.0 Byte(s)\n - Constant{4}, Shape: (), ElemSize: 8 Byte(s), TotalSize: 8.0 Byte(s)\n - Constant{3}, Shape: (), ElemSize: 8 Byte(s), TotalSize: 8.0 Byte(s)\n - Constant{2}, Shape: (), ElemSize: 8 Byte(s), TotalSize: 8.0 Byte(s)\n - Constant{1}, Shape: (), ElemSize: 8 Byte(s), TotalSize: 8.0 Byte(s)\n - Constant{-1}, Shape: (), ElemSize: 8 Byte(s), TotalSize: 8.0 Byte(s)\n - TensorConstant{1.0}, Shape: (), ElemSize: 8 Byte(s), TotalSize: 8.0 Byte(s)\n - state values.b, Shared Input, Shape: (1,), ElemSize: 4 Byte(s), TotalSize: 4 Byte(s)\n - <TensorType(float32, (True,))>, Shared Input, Shape: (1,), ElemSize: 4 Byte(s), TotalSize: 4 Byte(s)\n - TensorConstant{(1,) of 0.9}, Shape: (1,), ElemSize: 4 Byte(s), TotalSize: 4 Byte(s)\n - TensorConstant{(1, 1) of 0.9}, Shape: (1, 1), ElemSize: 4 Byte(s), TotalSize: 4 Byte(s)\n - TensorConstant{(1, 1) of 1.0}, Shape: (1, 1), ElemSize: 4 Byte(s), TotalSize: 4 Byte(s)\n - TensorConstant{(1, 1, 1) of 1.0}, Shape: (1, 1, 1), ElemSize: 4 Byte(s), TotalSize: 4 Byte(s)\n - TensorConstant{(1, 1, 1) of 0.0}, Shape: (1, 1, 1), ElemSize: 4 Byte(s), TotalSize: 4 Byte(s)\n - TensorConstant{(1, 1) of 0.0}, Shape: (1, 1), ElemSize: 4 Byte(s), TotalSize: 4 Byte(s)\n - TensorConstant{0.009999999776482582}, Shape: (), ElemSize: 4 Byte(s), TotalSize: 4.0 Byte(s)\n - TensorConstant{(1, 1) of 0.99}, Shape: (1, 1), ElemSize: 4 Byte(s), TotalSize: 4 Byte(s)\n - TensorConstant{(1, 1) of 0.001}, Shape: (1, 1), ElemSize: 4 Byte(s), TotalSize: 4 Byte(s)\n - TensorConstant{(1, 1) of 0.1}, Shape: (1, 1), ElemSize: 4 Byte(s), TotalSize: 4 Byte(s)\n - TensorConstant{(1,) of 0.001}, Shape: (1,), ElemSize: 4 Byte(s), TotalSize: 4 Byte(s)\n - TensorConstant{(1,) of 0.1}, Shape: (1,), ElemSize: 4 Byte(s), TotalSize: 4 Byte(s)\n - TensorConstant{(1, 1) of 1e-06}, Shape: (1, 1), ElemSize: 4 Byte(s), TotalSize: 4 Byte(s)\n - TensorConstant{(1,) of 1e-06}, Shape: (1,), ElemSize: 4 Byte(s), TotalSize: 4 Byte(s)\n - TensorConstant{1}, Shape: (), ElemSize: 1 Byte(s), TotalSize: 1.0 Byte(s)\n - TensorConstant{(1, 1) of 1}, Shape: (1, 1), ElemSize: 1 Byte(s), TotalSize: 1 Byte(s)\n - TensorConstant{False}, Shape: (), ElemSize: 1 Byte(s), TotalSize: 1.0 Byte(s)\n - TensorConstant{0}, Shape: (), ElemSize: 1 Byte(s), TotalSize: 1.0 Byte(s)\n - Constant{0}, Shape: (), ElemSize: 1 Byte(s), TotalSize: 1.0 Byte(s)\n - TensorConstant{(1, 1) of 2}, Shape: (1, 1), ElemSize: 1 Byte(s), TotalSize: 1 Byte(s)\n - TensorConstant{(1,) of 2}, Shape: (1,), ElemSize: 1 Byte(s), TotalSize: 1 Byte(s)\n - TensorConstant{[]}, Shape: (0,), ElemSize: 4 Byte(s), TotalSize: 0 Byte(s)\n TotalSize: 380818.0 Byte(s) 0.000 GB\n TotalSize inputs: 59418.0 Byte(s) 0.000 GB\n\n",
     "output_type": "error",
     "traceback": [
      "\u001b[0;31m---------------------------------------------------------------------------\u001b[0m",
      "\u001b[0;31mIndexError\u001b[0m                                Traceback (most recent call last)",
      "\u001b[0;32m/home/manatee/anaconda3/lib/python3.6/site-packages/theano/compile/function_module.py\u001b[0m in \u001b[0;36m__call__\u001b[0;34m(self, *args, **kwargs)\u001b[0m\n\u001b[1;32m    883\u001b[0m             \u001b[0moutputs\u001b[0m \u001b[0;34m=\u001b[0m\u001b[0;31m\\\u001b[0m\u001b[0;34m\u001b[0m\u001b[0m\n\u001b[0;32m--> 884\u001b[0;31m                 \u001b[0mself\u001b[0m\u001b[0;34m.\u001b[0m\u001b[0mfn\u001b[0m\u001b[0;34m(\u001b[0m\u001b[0;34m)\u001b[0m \u001b[0;32mif\u001b[0m \u001b[0moutput_subset\u001b[0m \u001b[0;32mis\u001b[0m \u001b[0;32mNone\u001b[0m \u001b[0;32melse\u001b[0m\u001b[0;31m\\\u001b[0m\u001b[0;34m\u001b[0m\u001b[0m\n\u001b[0m\u001b[1;32m    885\u001b[0m                 \u001b[0mself\u001b[0m\u001b[0;34m.\u001b[0m\u001b[0mfn\u001b[0m\u001b[0;34m(\u001b[0m\u001b[0moutput_subset\u001b[0m\u001b[0;34m=\u001b[0m\u001b[0moutput_subset\u001b[0m\u001b[0;34m)\u001b[0m\u001b[0;34m\u001b[0m\u001b[0m\n",
      "\u001b[0;32m/home/manatee/anaconda3/lib/python3.6/site-packages/theano/gof/op.py\u001b[0m in \u001b[0;36mrval\u001b[0;34m(p, i, o, n)\u001b[0m\n\u001b[1;32m    871\u001b[0m             \u001b[0;32mdef\u001b[0m \u001b[0mrval\u001b[0m\u001b[0;34m(\u001b[0m\u001b[0mp\u001b[0m\u001b[0;34m=\u001b[0m\u001b[0mp\u001b[0m\u001b[0;34m,\u001b[0m \u001b[0mi\u001b[0m\u001b[0;34m=\u001b[0m\u001b[0mnode_input_storage\u001b[0m\u001b[0;34m,\u001b[0m \u001b[0mo\u001b[0m\u001b[0;34m=\u001b[0m\u001b[0mnode_output_storage\u001b[0m\u001b[0;34m,\u001b[0m \u001b[0mn\u001b[0m\u001b[0;34m=\u001b[0m\u001b[0mnode\u001b[0m\u001b[0;34m)\u001b[0m\u001b[0;34m:\u001b[0m\u001b[0;34m\u001b[0m\u001b[0m\n\u001b[0;32m--> 872\u001b[0;31m                 \u001b[0mr\u001b[0m \u001b[0;34m=\u001b[0m \u001b[0mp\u001b[0m\u001b[0;34m(\u001b[0m\u001b[0mn\u001b[0m\u001b[0;34m,\u001b[0m \u001b[0;34m[\u001b[0m\u001b[0mx\u001b[0m\u001b[0;34m[\u001b[0m\u001b[0;36m0\u001b[0m\u001b[0;34m]\u001b[0m \u001b[0;32mfor\u001b[0m \u001b[0mx\u001b[0m \u001b[0;32min\u001b[0m \u001b[0mi\u001b[0m\u001b[0;34m]\u001b[0m\u001b[0;34m,\u001b[0m \u001b[0mo\u001b[0m\u001b[0;34m)\u001b[0m\u001b[0;34m\u001b[0m\u001b[0m\n\u001b[0m\u001b[1;32m    873\u001b[0m                 \u001b[0;32mfor\u001b[0m \u001b[0mo\u001b[0m \u001b[0;32min\u001b[0m \u001b[0mnode\u001b[0m\u001b[0;34m.\u001b[0m\u001b[0moutputs\u001b[0m\u001b[0;34m:\u001b[0m\u001b[0;34m\u001b[0m\u001b[0m\n",
      "\u001b[0;32m/home/manatee/anaconda3/lib/python3.6/site-packages/theano/tensor/subtensor.py\u001b[0m in \u001b[0;36mperform\u001b[0;34m(self, node, inputs, out_)\u001b[0m\n\u001b[1;32m   2172\u001b[0m         \u001b[0;31m# index, just like subtensor\u001b[0m\u001b[0;34m\u001b[0m\u001b[0;34m\u001b[0m\u001b[0m\n\u001b[0;32m-> 2173\u001b[0;31m         \u001b[0mout\u001b[0m\u001b[0;34m[\u001b[0m\u001b[0;36m0\u001b[0m\u001b[0;34m]\u001b[0m \u001b[0;34m=\u001b[0m \u001b[0minputs\u001b[0m\u001b[0;34m[\u001b[0m\u001b[0;36m0\u001b[0m\u001b[0;34m]\u001b[0m\u001b[0;34m.\u001b[0m\u001b[0m__getitem__\u001b[0m\u001b[0;34m(\u001b[0m\u001b[0minputs\u001b[0m\u001b[0;34m[\u001b[0m\u001b[0;36m1\u001b[0m\u001b[0;34m:\u001b[0m\u001b[0;34m]\u001b[0m\u001b[0;34m)\u001b[0m\u001b[0;34m\u001b[0m\u001b[0m\n\u001b[0m\u001b[1;32m   2174\u001b[0m \u001b[0;34m\u001b[0m\u001b[0m\n",
      "\u001b[0;31mIndexError\u001b[0m: shape mismatch: indexing arrays could not be broadcast together with shapes (100,1) (1,25) (100,25,2) ",
      "\nDuring handling of the above exception, another exception occurred:\n",
      "\u001b[0;31mIndexError\u001b[0m                                Traceback (most recent call last)",
      "\u001b[0;32m<ipython-input-23-da17fb9a9e99>\u001b[0m in \u001b[0;36m<module>\u001b[0;34m()\u001b[0m\n\u001b[1;32m     11\u001b[0m \u001b[0;34m\u001b[0m\u001b[0m\n\u001b[1;32m     12\u001b[0m     \u001b[0;32mfor\u001b[0m \u001b[0mi\u001b[0m \u001b[0;32min\u001b[0m \u001b[0mrange\u001b[0m\u001b[0;34m(\u001b[0m\u001b[0;36m10\u001b[0m\u001b[0;34m)\u001b[0m\u001b[0;34m:\u001b[0m\u001b[0;34m\u001b[0m\u001b[0m\n\u001b[0;32m---> 13\u001b[0;31m         \u001b[0mnew_loss\u001b[0m \u001b[0;34m=\u001b[0m \u001b[0mtrain_step\u001b[0m\u001b[0;34m(\u001b[0m\u001b[0;34m)\u001b[0m\u001b[0;34m\u001b[0m\u001b[0m\n\u001b[0m\u001b[1;32m     14\u001b[0m         \u001b[0mloss\u001b[0m \u001b[0;34m=\u001b[0m \u001b[0mloss\u001b[0m \u001b[0;34m*\u001b[0m \u001b[0;36m0.99\u001b[0m \u001b[0;34m+\u001b[0m \u001b[0mnew_loss\u001b[0m \u001b[0;34m*\u001b[0m \u001b[0;36m0.01\u001b[0m\u001b[0;34m\u001b[0m\u001b[0m\n\u001b[1;32m     15\u001b[0m \u001b[0;34m\u001b[0m\u001b[0m\n",
      "\u001b[0;32m/home/manatee/anaconda3/lib/python3.6/site-packages/theano/compile/function_module.py\u001b[0m in \u001b[0;36m__call__\u001b[0;34m(self, *args, **kwargs)\u001b[0m\n\u001b[1;32m    896\u001b[0m                     \u001b[0mnode\u001b[0m\u001b[0;34m=\u001b[0m\u001b[0mself\u001b[0m\u001b[0;34m.\u001b[0m\u001b[0mfn\u001b[0m\u001b[0;34m.\u001b[0m\u001b[0mnodes\u001b[0m\u001b[0;34m[\u001b[0m\u001b[0mself\u001b[0m\u001b[0;34m.\u001b[0m\u001b[0mfn\u001b[0m\u001b[0;34m.\u001b[0m\u001b[0mposition_of_error\u001b[0m\u001b[0;34m]\u001b[0m\u001b[0;34m,\u001b[0m\u001b[0;34m\u001b[0m\u001b[0m\n\u001b[1;32m    897\u001b[0m                     \u001b[0mthunk\u001b[0m\u001b[0;34m=\u001b[0m\u001b[0mthunk\u001b[0m\u001b[0;34m,\u001b[0m\u001b[0;34m\u001b[0m\u001b[0m\n\u001b[0;32m--> 898\u001b[0;31m                     storage_map=getattr(self.fn, 'storage_map', None))\n\u001b[0m\u001b[1;32m    899\u001b[0m             \u001b[0;32melse\u001b[0m\u001b[0;34m:\u001b[0m\u001b[0;34m\u001b[0m\u001b[0m\n\u001b[1;32m    900\u001b[0m                 \u001b[0;31m# old-style linkers raise their own exceptions\u001b[0m\u001b[0;34m\u001b[0m\u001b[0;34m\u001b[0m\u001b[0m\n",
      "\u001b[0;32m/home/manatee/anaconda3/lib/python3.6/site-packages/theano/gof/link.py\u001b[0m in \u001b[0;36mraise_with_op\u001b[0;34m(node, thunk, exc_info, storage_map)\u001b[0m\n\u001b[1;32m    323\u001b[0m         \u001b[0;31m# extra long error message in that case.\u001b[0m\u001b[0;34m\u001b[0m\u001b[0;34m\u001b[0m\u001b[0m\n\u001b[1;32m    324\u001b[0m         \u001b[0;32mpass\u001b[0m\u001b[0;34m\u001b[0m\u001b[0m\n\u001b[0;32m--> 325\u001b[0;31m     \u001b[0mreraise\u001b[0m\u001b[0;34m(\u001b[0m\u001b[0mexc_type\u001b[0m\u001b[0;34m,\u001b[0m \u001b[0mexc_value\u001b[0m\u001b[0;34m,\u001b[0m \u001b[0mexc_trace\u001b[0m\u001b[0;34m)\u001b[0m\u001b[0;34m\u001b[0m\u001b[0m\n\u001b[0m\u001b[1;32m    326\u001b[0m \u001b[0;34m\u001b[0m\u001b[0m\n\u001b[1;32m    327\u001b[0m \u001b[0;34m\u001b[0m\u001b[0m\n",
      "\u001b[0;32m/home/manatee/anaconda3/lib/python3.6/site-packages/six.py\u001b[0m in \u001b[0;36mreraise\u001b[0;34m(tp, value, tb)\u001b[0m\n\u001b[1;32m    683\u001b[0m             \u001b[0mvalue\u001b[0m \u001b[0;34m=\u001b[0m \u001b[0mtp\u001b[0m\u001b[0;34m(\u001b[0m\u001b[0;34m)\u001b[0m\u001b[0;34m\u001b[0m\u001b[0m\n\u001b[1;32m    684\u001b[0m         \u001b[0;32mif\u001b[0m \u001b[0mvalue\u001b[0m\u001b[0;34m.\u001b[0m\u001b[0m__traceback__\u001b[0m \u001b[0;32mis\u001b[0m \u001b[0;32mnot\u001b[0m \u001b[0mtb\u001b[0m\u001b[0;34m:\u001b[0m\u001b[0;34m\u001b[0m\u001b[0m\n\u001b[0;32m--> 685\u001b[0;31m             \u001b[0;32mraise\u001b[0m \u001b[0mvalue\u001b[0m\u001b[0;34m.\u001b[0m\u001b[0mwith_traceback\u001b[0m\u001b[0;34m(\u001b[0m\u001b[0mtb\u001b[0m\u001b[0;34m)\u001b[0m\u001b[0;34m\u001b[0m\u001b[0m\n\u001b[0m\u001b[1;32m    686\u001b[0m         \u001b[0;32mraise\u001b[0m \u001b[0mvalue\u001b[0m\u001b[0;34m\u001b[0m\u001b[0m\n\u001b[1;32m    687\u001b[0m \u001b[0;34m\u001b[0m\u001b[0m\n",
      "\u001b[0;32m/home/manatee/anaconda3/lib/python3.6/site-packages/theano/compile/function_module.py\u001b[0m in \u001b[0;36m__call__\u001b[0;34m(self, *args, **kwargs)\u001b[0m\n\u001b[1;32m    882\u001b[0m         \u001b[0;32mtry\u001b[0m\u001b[0;34m:\u001b[0m\u001b[0;34m\u001b[0m\u001b[0m\n\u001b[1;32m    883\u001b[0m             \u001b[0moutputs\u001b[0m \u001b[0;34m=\u001b[0m\u001b[0;31m\\\u001b[0m\u001b[0;34m\u001b[0m\u001b[0m\n\u001b[0;32m--> 884\u001b[0;31m                 \u001b[0mself\u001b[0m\u001b[0;34m.\u001b[0m\u001b[0mfn\u001b[0m\u001b[0;34m(\u001b[0m\u001b[0;34m)\u001b[0m \u001b[0;32mif\u001b[0m \u001b[0moutput_subset\u001b[0m \u001b[0;32mis\u001b[0m \u001b[0;32mNone\u001b[0m \u001b[0;32melse\u001b[0m\u001b[0;31m\\\u001b[0m\u001b[0;34m\u001b[0m\u001b[0m\n\u001b[0m\u001b[1;32m    885\u001b[0m                 \u001b[0mself\u001b[0m\u001b[0;34m.\u001b[0m\u001b[0mfn\u001b[0m\u001b[0;34m(\u001b[0m\u001b[0moutput_subset\u001b[0m\u001b[0;34m=\u001b[0m\u001b[0moutput_subset\u001b[0m\u001b[0;34m)\u001b[0m\u001b[0;34m\u001b[0m\u001b[0m\n\u001b[1;32m    886\u001b[0m         \u001b[0;32mexcept\u001b[0m \u001b[0mException\u001b[0m\u001b[0;34m:\u001b[0m\u001b[0;34m\u001b[0m\u001b[0m\n",
      "\u001b[0;32m/home/manatee/anaconda3/lib/python3.6/site-packages/theano/gof/op.py\u001b[0m in \u001b[0;36mrval\u001b[0;34m(p, i, o, n)\u001b[0m\n\u001b[1;32m    870\u001b[0m             \u001b[0;31m# default arguments are stored in the closure of `rval`\u001b[0m\u001b[0;34m\u001b[0m\u001b[0;34m\u001b[0m\u001b[0m\n\u001b[1;32m    871\u001b[0m             \u001b[0;32mdef\u001b[0m \u001b[0mrval\u001b[0m\u001b[0;34m(\u001b[0m\u001b[0mp\u001b[0m\u001b[0;34m=\u001b[0m\u001b[0mp\u001b[0m\u001b[0;34m,\u001b[0m \u001b[0mi\u001b[0m\u001b[0;34m=\u001b[0m\u001b[0mnode_input_storage\u001b[0m\u001b[0;34m,\u001b[0m \u001b[0mo\u001b[0m\u001b[0;34m=\u001b[0m\u001b[0mnode_output_storage\u001b[0m\u001b[0;34m,\u001b[0m \u001b[0mn\u001b[0m\u001b[0;34m=\u001b[0m\u001b[0mnode\u001b[0m\u001b[0;34m)\u001b[0m\u001b[0;34m:\u001b[0m\u001b[0;34m\u001b[0m\u001b[0m\n\u001b[0;32m--> 872\u001b[0;31m                 \u001b[0mr\u001b[0m \u001b[0;34m=\u001b[0m \u001b[0mp\u001b[0m\u001b[0;34m(\u001b[0m\u001b[0mn\u001b[0m\u001b[0;34m,\u001b[0m \u001b[0;34m[\u001b[0m\u001b[0mx\u001b[0m\u001b[0;34m[\u001b[0m\u001b[0;36m0\u001b[0m\u001b[0;34m]\u001b[0m \u001b[0;32mfor\u001b[0m \u001b[0mx\u001b[0m \u001b[0;32min\u001b[0m \u001b[0mi\u001b[0m\u001b[0;34m]\u001b[0m\u001b[0;34m,\u001b[0m \u001b[0mo\u001b[0m\u001b[0;34m)\u001b[0m\u001b[0;34m\u001b[0m\u001b[0m\n\u001b[0m\u001b[1;32m    873\u001b[0m                 \u001b[0;32mfor\u001b[0m \u001b[0mo\u001b[0m \u001b[0;32min\u001b[0m \u001b[0mnode\u001b[0m\u001b[0;34m.\u001b[0m\u001b[0moutputs\u001b[0m\u001b[0;34m:\u001b[0m\u001b[0;34m\u001b[0m\u001b[0m\n\u001b[1;32m    874\u001b[0m                     \u001b[0mcompute_map\u001b[0m\u001b[0;34m[\u001b[0m\u001b[0mo\u001b[0m\u001b[0;34m]\u001b[0m\u001b[0;34m[\u001b[0m\u001b[0;36m0\u001b[0m\u001b[0;34m]\u001b[0m \u001b[0;34m=\u001b[0m \u001b[0;32mTrue\u001b[0m\u001b[0;34m\u001b[0m\u001b[0m\n",
      "\u001b[0;32m/home/manatee/anaconda3/lib/python3.6/site-packages/theano/tensor/subtensor.py\u001b[0m in \u001b[0;36mperform\u001b[0;34m(self, node, inputs, out_)\u001b[0m\n\u001b[1;32m   2171\u001b[0m         \u001b[0;31m# TODO: in general, we need to re-pack the inputs into a valid\u001b[0m\u001b[0;34m\u001b[0m\u001b[0;34m\u001b[0m\u001b[0m\n\u001b[1;32m   2172\u001b[0m         \u001b[0;31m# index, just like subtensor\u001b[0m\u001b[0;34m\u001b[0m\u001b[0;34m\u001b[0m\u001b[0m\n\u001b[0;32m-> 2173\u001b[0;31m         \u001b[0mout\u001b[0m\u001b[0;34m[\u001b[0m\u001b[0;36m0\u001b[0m\u001b[0;34m]\u001b[0m \u001b[0;34m=\u001b[0m \u001b[0minputs\u001b[0m\u001b[0;34m[\u001b[0m\u001b[0;36m0\u001b[0m\u001b[0;34m]\u001b[0m\u001b[0;34m.\u001b[0m\u001b[0m__getitem__\u001b[0m\u001b[0;34m(\u001b[0m\u001b[0minputs\u001b[0m\u001b[0;34m[\u001b[0m\u001b[0;36m1\u001b[0m\u001b[0;34m:\u001b[0m\u001b[0;34m]\u001b[0m\u001b[0;34m)\u001b[0m\u001b[0;34m\u001b[0m\u001b[0m\n\u001b[0m\u001b[1;32m   2174\u001b[0m \u001b[0;34m\u001b[0m\u001b[0m\n\u001b[1;32m   2175\u001b[0m     \u001b[0;32mdef\u001b[0m \u001b[0mconnection_pattern\u001b[0m\u001b[0;34m(\u001b[0m\u001b[0mself\u001b[0m\u001b[0;34m,\u001b[0m \u001b[0mnode\u001b[0m\u001b[0;34m)\u001b[0m\u001b[0;34m:\u001b[0m\u001b[0;34m\u001b[0m\u001b[0m\n",
      "\u001b[0;31mIndexError\u001b[0m: shape mismatch: indexing arrays could not be broadcast together with shapes (100,1) (1,25) (100,25,2) \nApply node that caused the error: AdvancedSubtensor(Elemwise{log,no_inplace}.0, InplaceDimShuffle{0,x}.0, InplaceDimShuffle{x,0}.0, AdvancedSubtensor1.0)\nToposort index: 518\nInputs types: [TensorType(float32, 3D), TensorType(int64, col), TensorType(int64, row), TensorType(int32, 3D)]\nInputs shapes: [(100, 25, 6), (100, 1), (1, 25), (100, 25, 2)]\nInputs strides: [(600, 24, 4), (8, 8), (200, 8), (200, 8, 4)]\nInputs values: ['not shown', 'not shown', 'not shown', 'not shown']\nInputs type_num: [11, 7, 7, 5]\nOutputs clients: [[Elemwise{neg,no_inplace}(AdvancedSubtensor.0)]]\n\nBacktrace when the node is created(use Theano flag traceback.limit=N to make it longer):\n  File \"/home/manatee/anaconda3/lib/python3.6/site-packages/ipykernel/zmqshell.py\", line 501, in run_cell\n    return super(ZMQInteractiveShell, self).run_cell(*args, **kwargs)\n  File \"/home/manatee/anaconda3/lib/python3.6/site-packages/IPython/core/interactiveshell.py\", line 2717, in run_cell\n    interactivity=interactivity, compiler=compiler, result=result)\n  File \"/home/manatee/anaconda3/lib/python3.6/site-packages/IPython/core/interactiveshell.py\", line 2821, in run_ast_nodes\n    if self.run_code(code, result):\n  File \"/home/manatee/anaconda3/lib/python3.6/site-packages/IPython/core/interactiveshell.py\", line 2881, in run_code\n    exec(code_obj, self.user_global_ns, self.user_ns)\n  File \"<ipython-input-16-490dc9d7dd04>\", line 5, in <module>\n    train_step = get_train_step(policy_seq, V_seq, weights, replay)\n  File \"/home/manatee/Desktop/inn.prac/Algorithms/src/agent/train_step.py\", line 20, in get_train_step\n    gamma_or_gammas=0.99)\n  File \"/home/manatee/anaconda3/lib/python3.6/site-packages/agentnet/learning/a2c.py\", line 140, in get_elementwise_objective\n    action_logprobas = get_values_for_actions(logpolicy, actions) if logpolicy.ndim == 3 else logpolicy\n  File \"/home/manatee/anaconda3/lib/python3.6/site-packages/agentnet/learning/generic.py\", line 265, in get_values_for_actions\n    action_values_predicted = values_for_all_actions[batch_i, time_i, actions]\n\nDebugprint of the apply node: \nAdvancedSubtensor [id A] <TensorType(float32, 3D)> ''   \n |Elemwise{log,no_inplace} [id B] <TensorType(float32, 3D)> ''   \n | |Print{message='>>>> policy_seq; ', attrs=('__str__',), global_fn=<function _print_fn at 0x7f6ce6096a60>} [id C] <TensorType(float32, 3D)> ''   \n |   |InplaceDimShuffle{1,0,2} [id D] <TensorType(float32, 3D)> ''   \n |     |Join [id E] <TensorType(float32, 3D)> ''   \n |       |TensorConstant{0} [id F] <TensorType(int8, scalar)>\n |       |InplaceDimShuffle{x,0,1} [id G] <TensorType(float32, (True, False, False))> ''   \n |       | |SoftmaxWithBias [id H] <TensorType(float32, matrix)> ''   \n |       |   |Dot22 [id I] <TensorType(float32, matrix)> ''   \n |       |   | |sigmoid [id J] <TensorType(float32, matrix)> ''   \n |       |   | | |Elemwise{add,no_inplace} [id K] <TensorType(float32, matrix)> ''   \n |       |   | |   |Dot22 [id L] <TensorType(float32, matrix)> ''   \n |       |   | |   | |Subtensor{int64} [id M] <TensorType(float32, matrix)> ''   \n |       |   | |   | | |InplaceDimShuffle{1,0,2} [id N] <TensorType(float32, 3D)> ''   \n |       |   | |   | | | |AdvancedSubtensor1 [id O] <TensorType(float32, 3D)> ''   \n |       |   | |   | | |   |sessions.observations_history.0 [id P] <TensorType(float32, 3D)>\n |       |   | |   | | |   |RandomFunction{choice_helper}.1 [id Q] <TensorType(int32, vector)> ''   \n |       |   | |   | | |     |<RandomStateType> [id R] <RandomStateType>\n |       |   | |   | | |     |TensorConstant{(1,) of 100} [id S] <TensorType(int64, vector)>\n |       |   | |   | | |     |Subtensor{int64} [id T] <TensorType(int64, scalar)> ''   \n |       |   | |   | | |     | |Shape [id U] <TensorType(int64, vector)> ''   \n |       |   | |   | | |     | | |session.rewards_history [id V] <TensorType(float32, matrix)>\n |       |   | |   | | |     | |Constant{0} [id W] <int64>\n |       |   | |   | | |     |TensorConstant{1} [id X] <TensorType(int8, scalar)>\n |       |   | |   | | |     |TensorConstant{[]} [id Y] <TensorType(float32, vector)>\n |       |   | |   | | |Constant{0} [id W] <int64>\n |       |   | |   | |dense1.W [id Z] <TensorType(float32, matrix)>\n |       |   | |   |InplaceDimShuffle{x,0} [id BA] <TensorType(float32, row)> ''   \n |       |   | |     |dense1.b [id BB] <TensorType(float32, vector)>\n |       |   | |q-evaluator layer.W [id BC] <TensorType(float32, matrix)>\n |       |   |q-evaluator layer.b [id BD] <TensorType(float32, vector)>\n |       |InplaceDimShuffle{x,0,1} [id BE] <TensorType(float32, (True, False, False))> ''   \n |       | |SoftmaxWithBias [id BF] <TensorType(float32, matrix)> ''   \n |       |   |Dot22 [id BG] <TensorType(float32, matrix)> ''   \n |       |   | |sigmoid [id BH] <TensorType(float32, matrix)> ''   \n |       |   | | |Elemwise{add,no_inplace} [id BI] <TensorType(float32, matrix)> ''   \n |       |   | |   |Dot22 [id BJ] <TensorType(float32, matrix)> ''   \n |       |   | |   | |Subtensor{int64} [id BK] <TensorType(float32, matrix)> ''   \n |       |   | |   | | |InplaceDimShuffle{1,0,2} [id N] <TensorType(float32, 3D)> ''   \n |       |   | |   | | |Constant{1} [id BL] <int64>\n |       |   | |   | |dense1.W [id Z] <TensorType(float32, matrix)>\n |       |   | |   |InplaceDimShuffle{x,0} [id BA] <TensorType(float32, row)> ''   \n |       |   | |q-evaluator layer.W [id BC] <TensorType(float32, matrix)>\n |       |   |q-evaluator layer.b [id BD] <TensorType(float32, vector)>\n |       |InplaceDimShuffle{x,0,1} [id BM] <TensorType(float32, (True, False, False))> ''   \n |       | |SoftmaxWithBias [id BN] <TensorType(float32, matrix)> ''   \n |       |   |Dot22 [id BO] <TensorType(float32, matrix)> ''   \n |       |   | |sigmoid [id BP] <TensorType(float32, matrix)> ''   \n |       |   | | |Elemwise{add,no_inplace} [id BQ] <TensorType(float32, matrix)> ''   \n |       |   | |   |Dot22 [id BR] <TensorType(float32, matrix)> ''   \n |       |   | |   | |Subtensor{int64} [id BS] <TensorType(float32, matrix)> ''   \n |       |   | |   | | |InplaceDimShuffle{1,0,2} [id N] <TensorType(float32, 3D)> ''   \n |       |   | |   | | |Constant{2} [id BT] <int64>\n |       |   | |   | |dense1.W [id Z] <TensorType(float32, matrix)>\n |       |   | |   |InplaceDimShuffle{x,0} [id BA] <TensorType(float32, row)> ''   \n |       |   | |q-evaluator layer.W [id BC] <TensorType(float32, matrix)>\n |       |   |q-evaluator layer.b [id BD] <TensorType(float32, vector)>\n |       |InplaceDimShuffle{x,0,1} [id BU] <TensorType(float32, (True, False, False))> ''   \n |       | |SoftmaxWithBias [id BV] <TensorType(float32, matrix)> ''   \n |       |   |Dot22 [id BW] <TensorType(float32, matrix)> ''   \n |       |   | |sigmoid [id BX] <TensorType(float32, matrix)> ''   \n |       |   | | |Elemwise{add,no_inplace} [id BY] <TensorType(float32, matrix)> ''   \n |       |   | |   |Dot22 [id BZ] <TensorType(float32, matrix)> ''   \n |       |   | |   | |Subtensor{int64} [id CA] <TensorType(float32, matrix)> ''   \n |       |   | |   | | |InplaceDimShuffle{1,0,2} [id N] <TensorType(float32, 3D)> ''   \n |       |   | |   | | |Constant{3} [id CB] <int64>\n |       |   | |   | |dense1.W [id Z] <TensorType(float32, matrix)>\n |       |   | |   |InplaceDimShuffle{x,0} [id BA] <TensorType(float32, row)> ''   \n |       |   | |q-evaluator layer.W [id BC] <TensorType(float32, matrix)>\n |       |   |q-evaluator layer.b [id BD] <TensorType(float32, vector)>\n |       |InplaceDimShuffle{x,0,1} [id CC] <TensorType(float32, (True, False, False))> ''   \n |       | |SoftmaxWithBias [id CD] <TensorType(float32, matrix)> ''   \n |       |   |Dot22 [id CE] <TensorType(float32, matrix)> ''   \n |       |   | |sigmoid [id CF] <TensorType(float32, matrix)> ''   \n |       |   | | |Elemwise{add,no_inplace} [id CG] <TensorType(float32, matrix)> ''   \n |       |   | |   |Dot22 [id CH] <TensorType(float32, matrix)> ''   \n |       |   | |   | |Subtensor{int64} [id CI] <TensorType(float32, matrix)> ''   \n |       |   | |   | | |InplaceDimShuffle{1,0,2} [id N] <TensorType(float32, 3D)> ''   \n |       |   | |   | | |Constant{4} [id CJ] <int64>\n |       |   | |   | |dense1.W [id Z] <TensorType(float32, matrix)>\n |       |   | |   |InplaceDimShuffle{x,0} [id BA] <TensorType(float32, row)> ''   \n |       |   | |q-evaluator layer.W [id BC] <TensorType(float32, matrix)>\n |       |   |q-evaluator layer.b [id BD] <TensorType(float32, vector)>\n |       |InplaceDimShuffle{x,0,1} [id CK] <TensorType(float32, (True, False, False))> ''   \n |       | |SoftmaxWithBias [id CL] <TensorType(float32, matrix)> ''   \n |       |   |Dot22 [id CM] <TensorType(float32, matrix)> ''   \n |       |   | |sigmoid [id CN] <TensorType(float32, matrix)> ''   \n |       |   | | |Elemwise{add,no_inplace} [id CO] <TensorType(float32, matrix)> ''   \n |       |   | |   |Dot22 [id CP] <TensorType(float32, matrix)> ''   \n |       |   | |   | |Subtensor{int64} [id CQ] <TensorType(float32, matrix)> ''   \n |       |   | |   | | |InplaceDimShuffle{1,0,2} [id N] <TensorType(float32, 3D)> ''   \n |       |   | |   | | |Constant{5} [id CR] <int64>\n |       |   | |   | |dense1.W [id Z] <TensorType(float32, matrix)>\n |       |   | |   |InplaceDimShuffle{x,0} [id BA] <TensorType(float32, row)> ''   \n |       |   | |q-evaluator layer.W [id BC] <TensorType(float32, matrix)>\n |       |   |q-evaluator layer.b [id BD] <TensorType(float32, vector)>\n |       |InplaceDimShuffle{x,0,1} [id CS] <TensorType(float32, (True, False, False))> ''   \n |       | |SoftmaxWithBias [id CT] <TensorType(float32, matrix)> ''   \n |       |   |Dot22 [id CU] <TensorType(float32, matrix)> ''   \n |       |   | |sigmoid [id CV] <TensorType(float32, matrix)> ''   \n |       |   | | |Elemwise{add,no_inplace} [id CW] <TensorType(float32, matrix)> ''   \n |       |   | |   |Dot22 [id CX] <TensorType(float32, matrix)> ''   \n |       |   | |   | |Subtensor{int64} [id CY] <TensorType(float32, matrix)> ''   \n |       |   | |   | | |InplaceDimShuffle{1,0,2} [id N] <TensorType(float32, 3D)> ''   \n |       |   | |   | | |Constant{6} [id CZ] <int64>\n |       |   | |   | |dense1.W [id Z] <TensorType(float32, matrix)>\n |       |   | |   |InplaceDimShuffle{x,0} [id BA] <TensorType(float32, row)> ''   \n |       |   | |q-evaluator layer.W [id BC] <TensorType(float32, matrix)>\n |       |   |q-evaluator layer.b [id BD] <TensorType(float32, vector)>\n |       |InplaceDimShuffle{x,0,1} [id DA] <TensorType(float32, (True, False, False))> ''   \n |       | |SoftmaxWithBias [id DB] <TensorType(float32, matrix)> ''   \n |       |   |Dot22 [id DC] <TensorType(float32, matrix)> ''   \n |       |   | |sigmoid [id DD] <TensorType(float32, matrix)> ''   \n |       |   | | |Elemwise{add,no_inplace} [id DE] <TensorType(float32, matrix)> ''   \n |       |   | |   |Dot22 [id DF] <TensorType(float32, matrix)> ''   \n |       |   | |   | |Subtensor{int64} [id DG] <TensorType(float32, matrix)> ''   \n |       |   | |   | | |InplaceDimShuffle{1,0,2} [id N] <TensorType(float32, 3D)> ''   \n |       |   | |   | | |Constant{7} [id DH] <int64>\n |       |   | |   | |dense1.W [id Z] <TensorType(float32, matrix)>\n |       |   | |   |InplaceDimShuffle{x,0} [id BA] <TensorType(float32, row)> ''   \n |       |   | |q-evaluator layer.W [id BC] <TensorType(float32, matrix)>\n |       |   |q-evaluator layer.b [id BD] <TensorType(float32, vector)>\n |       |InplaceDimShuffle{x,0,1} [id DI] <TensorType(float32, (True, False, False))> ''   \n |       | |SoftmaxWithBias [id DJ] <TensorType(float32, matrix)> ''   \n |       |   |Dot22 [id DK] <TensorType(float32, matrix)> ''   \n |       |   | |sigmoid [id DL] <TensorType(float32, matrix)> ''   \n |       |   | | |Elemwise{add,no_inplace} [id DM] <TensorType(float32, matrix)> ''   \n |       |   | |   |Dot22 [id DN] <TensorType(float32, matrix)> ''   \n |       |   | |   | |Subtensor{int64} [id DO] <TensorType(float32, matrix)> ''   \n |       |   | |   | | |InplaceDimShuffle{1,0,2} [id N] <TensorType(float32, 3D)> ''   \n |       |   | |   | | |Constant{8} [id DP] <int64>\n |       |   | |   | |dense1.W [id Z] <TensorType(float32, matrix)>\n |       |   | |   |InplaceDimShuffle{x,0} [id BA] <TensorType(float32, row)> ''   \n |       |   | |q-evaluator layer.W [id BC] <TensorType(float32, matrix)>\n |       |   |q-evaluator layer.b [id BD] <TensorType(float32, vector)>\n |       |InplaceDimShuffle{x,0,1} [id DQ] <TensorType(float32, (True, False, False))> ''   \n |       | |SoftmaxWithBias [id DR] <TensorType(float32, matrix)> ''   \n |       |   |Dot22 [id DS] <TensorType(float32, matrix)> ''   \n |       |   | |sigmoid [id DT] <TensorType(float32, matrix)> ''   \n |       |   | | |Elemwise{add,no_inplace} [id DU] <TensorType(float32, matrix)> ''   \n |       |   | |   |Dot22 [id DV] <TensorType(float32, matrix)> ''   \n |       |   | |   | |Subtensor{int64} [id DW] <TensorType(float32, matrix)> ''   \n |       |   | |   | | |InplaceDimShuffle{1,0,2} [id N] <TensorType(float32, 3D)> ''   \n |       |   | |   | | |Constant{9} [id DX] <int64>\n |       |   | |   | |dense1.W [id Z] <TensorType(float32, matrix)>\n |       |   | |   |InplaceDimShuffle{x,0} [id BA] <TensorType(float32, row)> ''   \n |       |   | |q-evaluator layer.W [id BC] <TensorType(float32, matrix)>\n |       |   |q-evaluator layer.b [id BD] <TensorType(float32, vector)>\n |       |InplaceDimShuffle{x,0,1} [id DY] <TensorType(float32, (True, False, False))> ''   \n |       | |SoftmaxWithBias [id DZ] <TensorType(float32, matrix)> ''   \n |       |   |Dot22 [id EA] <TensorType(float32, matrix)> ''   \n |       |   | |sigmoid [id EB] <TensorType(float32, matrix)> ''   \n |       |   | | |Elemwise{add,no_inplace} [id EC] <TensorType(float32, matrix)> ''   \n |       |   | |   |Dot22 [id ED] <TensorType(float32, matrix)> ''   \n |       |   | |   | |Subtensor{int64} [id EE] <TensorType(float32, matrix)> ''   \n |       |   | |   | | |InplaceDimShuffle{1,0,2} [id N] <TensorType(float32, 3D)> ''   \n |       |   | |   | | |Constant{10} [id EF] <int64>\n |       |   | |   | |dense1.W [id Z] <TensorType(float32, matrix)>\n |       |   | |   |InplaceDimShuffle{x,0} [id BA] <TensorType(float32, row)> ''   \n |       |   | |q-evaluator layer.W [id BC] <TensorType(float32, matrix)>\n |       |   |q-evaluator layer.b [id BD] <TensorType(float32, vector)>\n |       |InplaceDimShuffle{x,0,1} [id EG] <TensorType(float32, (True, False, False))> ''   \n |       | |SoftmaxWithBias [id EH] <TensorType(float32, matrix)> ''   \n |       |   |Dot22 [id EI] <TensorType(float32, matrix)> ''   \n |       |   | |sigmoid [id EJ] <TensorType(float32, matrix)> ''   \n |       |   | | |Elemwise{add,no_inplace} [id EK] <TensorType(float32, matrix)> ''   \n |       |   | |   |Dot22 [id EL] <TensorType(float32, matrix)> ''   \n |       |   | |   | |Subtensor{int64} [id EM] <TensorType(float32, matrix)> ''   \n |       |   | |   | | |InplaceDimShuffle{1,0,2} [id N] <TensorType(float32, 3D)> ''   \n |       |   | |   | | |Constant{11} [id EN] <int64>\n |       |   | |   | |dense1.W [id Z] <TensorType(float32, matrix)>\n |       |   | |   |InplaceDimShuffle{x,0} [id BA] <TensorType(float32, row)> ''   \n |       |   | |q-evaluator layer.W [id BC] <TensorType(float32, matrix)>\n |       |   |q-evaluator layer.b [id BD] <TensorType(float32, vector)>\n |       |InplaceDimShuffle{x,0,1} [id EO] <TensorType(float32, (True, False, False))> ''   \n |       | |SoftmaxWithBias [id EP] <TensorType(float32, matrix)> ''   \n |       |   |Dot22 [id EQ] <TensorType(float32, matrix)> ''   \n |       |   | |sigmoid [id ER] <TensorType(float32, matrix)> ''   \n |       |   | | |Elemwise{add,no_inplace} [id ES] <TensorType(float32, matrix)> ''   \n |       |   | |   |Dot22 [id ET] <TensorType(float32, matrix)> ''   \n |       |   | |   | |Subtensor{int64} [id EU] <TensorType(float32, matrix)> ''   \n |       |   | |   | | |InplaceDimShuffle{1,0,2} [id N] <TensorType(float32, 3D)> ''   \n |       |   | |   | | |Constant{12} [id EV] <int64>\n |       |   | |   | |dense1.W [id Z] <TensorType(float32, matrix)>\n |       |   | |   |InplaceDimShuffle{x,0} [id BA] <TensorType(float32, row)> ''   \n |       |   | |q-evaluator layer.W [id BC] <TensorType(float32, matrix)>\n |       |   |q-evaluator layer.b [id BD] <TensorType(float32, vector)>\n |       |InplaceDimShuffle{x,0,1} [id EW] <TensorType(float32, (True, False, False))> ''   \n |       | |SoftmaxWithBias [id EX] <TensorType(float32, matrix)> ''   \n |       |   |Dot22 [id EY] <TensorType(float32, matrix)> ''   \n |       |   | |sigmoid [id EZ] <TensorType(float32, matrix)> ''   \n |       |   | | |Elemwise{add,no_inplace} [id FA] <TensorType(float32, matrix)> ''   \n |       |   | |   |Dot22 [id FB] <TensorType(float32, matrix)> ''   \n |       |   | |   | |Subtensor{int64} [id FC] <TensorType(float32, matrix)> ''   \n |       |   | |   | | |InplaceDimShuffle{1,0,2} [id N] <TensorType(float32, 3D)> ''   \n |       |   | |   | | |Constant{13} [id FD] <int64>\n |       |   | |   | |dense1.W [id Z] <TensorType(float32, matrix)>\n |       |   | |   |InplaceDimShuffle{x,0} [id BA] <TensorType(float32, row)> ''   \n |       |   | |q-evaluator layer.W [id BC] <TensorType(float32, matrix)>\n |       |   |q-evaluator layer.b [id BD] <TensorType(float32, vector)>\n |       |InplaceDimShuffle{x,0,1} [id FE] <TensorType(float32, (True, False, False))> ''   \n |       | |SoftmaxWithBias [id FF] <TensorType(float32, matrix)> ''   \n |       |   |Dot22 [id FG] <TensorType(float32, matrix)> ''   \n |       |   | |sigmoid [id FH] <TensorType(float32, matrix)> ''   \n |       |   | | |Elemwise{add,no_inplace} [id FI] <TensorType(float32, matrix)> ''   \n |       |   | |   |Dot22 [id FJ] <TensorType(float32, matrix)> ''   \n |       |   | |   | |Subtensor{int64} [id FK] <TensorType(float32, matrix)> ''   \n |       |   | |   | | |InplaceDimShuffle{1,0,2} [id N] <TensorType(float32, 3D)> ''   \n |       |   | |   | | |Constant{14} [id FL] <int64>\n |       |   | |   | |dense1.W [id Z] <TensorType(float32, matrix)>\n |       |   | |   |InplaceDimShuffle{x,0} [id BA] <TensorType(float32, row)> ''   \n |       |   | |q-evaluator layer.W [id BC] <TensorType(float32, matrix)>\n |       |   |q-evaluator layer.b [id BD] <TensorType(float32, vector)>\n |       |InplaceDimShuffle{x,0,1} [id FM] <TensorType(float32, (True, False, False))> ''   \n |       | |SoftmaxWithBias [id FN] <TensorType(float32, matrix)> ''   \n |       |   |Dot22 [id FO] <TensorType(float32, matrix)> ''   \n |       |   | |sigmoid [id FP] <TensorType(float32, matrix)> ''   \n |       |   | | |Elemwise{add,no_inplace} [id FQ] <TensorType(float32, matrix)> ''   \n |       |   | |   |Dot22 [id FR] <TensorType(float32, matrix)> ''   \n |       |   | |   | |Subtensor{int64} [id FS] <TensorType(float32, matrix)> ''   \n |       |   | |   | | |InplaceDimShuffle{1,0,2} [id N] <TensorType(float32, 3D)> ''   \n |       |   | |   | | |Constant{15} [id FT] <int64>\n |       |   | |   | |dense1.W [id Z] <TensorType(float32, matrix)>\n |       |   | |   |InplaceDimShuffle{x,0} [id BA] <TensorType(float32, row)> ''   \n |       |   | |q-evaluator layer.W [id BC] <TensorType(float32, matrix)>\n |       |   |q-evaluator layer.b [id BD] <TensorType(float32, vector)>\n |       |InplaceDimShuffle{x,0,1} [id FU] <TensorType(float32, (True, False, False))> ''   \n |       | |SoftmaxWithBias [id FV] <TensorType(float32, matrix)> ''   \n |       |   |Dot22 [id FW] <TensorType(float32, matrix)> ''   \n |       |   | |sigmoid [id FX] <TensorType(float32, matrix)> ''   \n |       |   | | |Elemwise{add,no_inplace} [id FY] <TensorType(float32, matrix)> ''   \n |       |   | |   |Dot22 [id FZ] <TensorType(float32, matrix)> ''   \n |       |   | |   | |Subtensor{int64} [id GA] <TensorType(float32, matrix)> ''   \n |       |   | |   | | |InplaceDimShuffle{1,0,2} [id N] <TensorType(float32, 3D)> ''   \n |       |   | |   | | |Constant{16} [id GB] <int64>\n |       |   | |   | |dense1.W [id Z] <TensorType(float32, matrix)>\n |       |   | |   |InplaceDimShuffle{x,0} [id BA] <TensorType(float32, row)> ''   \n |       |   | |q-evaluator layer.W [id BC] <TensorType(float32, matrix)>\n |       |   |q-evaluator layer.b [id BD] <TensorType(float32, vector)>\n |       |InplaceDimShuffle{x,0,1} [id GC] <TensorType(float32, (True, False, False))> ''   \n |       | |SoftmaxWithBias [id GD] <TensorType(float32, matrix)> ''   \n |       |   |Dot22 [id GE] <TensorType(float32, matrix)> ''   \n |       |   | |sigmoid [id GF] <TensorType(float32, matrix)> ''   \n |       |   | | |Elemwise{add,no_inplace} [id GG] <TensorType(float32, matrix)> ''   \n |       |   | |   |Dot22 [id GH] <TensorType(float32, matrix)> ''   \n |       |   | |   | |Subtensor{int64} [id GI] <TensorType(float32, matrix)> ''   \n |       |   | |   | | |InplaceDimShuffle{1,0,2} [id N] <TensorType(float32, 3D)> ''   \n |       |   | |   | | |Constant{17} [id GJ] <int64>\n |       |   | |   | |dense1.W [id Z] <TensorType(float32, matrix)>\n |       |   | |   |InplaceDimShuffle{x,0} [id BA] <TensorType(float32, row)> ''   \n |       |   | |q-evaluator layer.W [id BC] <TensorType(float32, matrix)>\n |       |   |q-evaluator layer.b [id BD] <TensorType(float32, vector)>\n |       |InplaceDimShuffle{x,0,1} [id GK] <TensorType(float32, (True, False, False))> ''   \n |       | |SoftmaxWithBias [id GL] <TensorType(float32, matrix)> ''   \n |       |   |Dot22 [id GM] <TensorType(float32, matrix)> ''   \n |       |   | |sigmoid [id GN] <TensorType(float32, matrix)> ''   \n |       |   | | |Elemwise{add,no_inplace} [id GO] <TensorType(float32, matrix)> ''   \n |       |   | |   |Dot22 [id GP] <TensorType(float32, matrix)> ''   \n |       |   | |   | |Subtensor{int64} [id GQ] <TensorType(float32, matrix)> ''   \n |       |   | |   | | |InplaceDimShuffle{1,0,2} [id N] <TensorType(float32, 3D)> ''   \n |       |   | |   | | |Constant{18} [id GR] <int64>\n |       |   | |   | |dense1.W [id Z] <TensorType(float32, matrix)>\n |       |   | |   |InplaceDimShuffle{x,0} [id BA] <TensorType(float32, row)> ''   \n |       |   | |q-evaluator layer.W [id BC] <TensorType(float32, matrix)>\n |       |   |q-evaluator layer.b [id BD] <TensorType(float32, vector)>\n |       |InplaceDimShuffle{x,0,1} [id GS] <TensorType(float32, (True, False, False))> ''   \n |       | |SoftmaxWithBias [id GT] <TensorType(float32, matrix)> ''   \n |       |   |Dot22 [id GU] <TensorType(float32, matrix)> ''   \n |       |   | |sigmoid [id GV] <TensorType(float32, matrix)> ''   \n |       |   | | |Elemwise{add,no_inplace} [id GW] <TensorType(float32, matrix)> ''   \n |       |   | |   |Dot22 [id GX] <TensorType(float32, matrix)> ''   \n |       |   | |   | |Subtensor{int64} [id GY] <TensorType(float32, matrix)> ''   \n |       |   | |   | | |InplaceDimShuffle{1,0,2} [id N] <TensorType(float32, 3D)> ''   \n |       |   | |   | | |Constant{19} [id GZ] <int64>\n |       |   | |   | |dense1.W [id Z] <TensorType(float32, matrix)>\n |       |   | |   |InplaceDimShuffle{x,0} [id BA] <TensorType(float32, row)> ''   \n |       |   | |q-evaluator layer.W [id BC] <TensorType(float32, matrix)>\n |       |   |q-evaluator layer.b [id BD] <TensorType(float32, vector)>\n |       |InplaceDimShuffle{x,0,1} [id HA] <TensorType(float32, (True, False, False))> ''   \n |       | |SoftmaxWithBias [id HB] <TensorType(float32, matrix)> ''   \n |       |   |Dot22 [id HC] <TensorType(float32, matrix)> ''   \n |       |   | |sigmoid [id HD] <TensorType(float32, matrix)> ''   \n |       |   | | |Elemwise{add,no_inplace} [id HE] <TensorType(float32, matrix)> ''   \n |       |   | |   |Dot22 [id HF] <TensorType(float32, matrix)> ''   \n |       |   | |   | |Subtensor{int64} [id HG] <TensorType(float32, matrix)> ''   \n |       |   | |   | | |InplaceDimShuffle{1,0,2} [id N] <TensorType(float32, 3D)> ''   \n |       |   | |   | | |Constant{20} [id HH] <int64>\n |       |   | |   | |dense1.W [id Z] <TensorType(float32, matrix)>\n |       |   | |   |InplaceDimShuffle{x,0} [id BA] <TensorType(float32, row)> ''   \n |       |   | |q-evaluator layer.W [id BC] <TensorType(float32, matrix)>\n |       |   |q-evaluator layer.b [id BD] <TensorType(float32, vector)>\n |       |InplaceDimShuffle{x,0,1} [id HI] <TensorType(float32, (True, False, False))> ''   \n |       | |SoftmaxWithBias [id HJ] <TensorType(float32, matrix)> ''   \n |       |   |Dot22 [id HK] <TensorType(float32, matrix)> ''   \n |       |   | |sigmoid [id HL] <TensorType(float32, matrix)> ''   \n |       |   | | |Elemwise{add,no_inplace} [id HM] <TensorType(float32, matrix)> ''   \n |       |   | |   |Dot22 [id HN] <TensorType(float32, matrix)> ''   \n |       |   | |   | |Subtensor{int64} [id HO] <TensorType(float32, matrix)> ''   \n |       |   | |   | | |InplaceDimShuffle{1,0,2} [id N] <TensorType(float32, 3D)> ''   \n |       |   | |   | | |Constant{21} [id HP] <int64>\n |       |   | |   | |dense1.W [id Z] <TensorType(float32, matrix)>\n |       |   | |   |InplaceDimShuffle{x,0} [id BA] <TensorType(float32, row)> ''   \n |       |   | |q-evaluator layer.W [id BC] <TensorType(float32, matrix)>\n |       |   |q-evaluator layer.b [id BD] <TensorType(float32, vector)>\n |       |InplaceDimShuffle{x,0,1} [id HQ] <TensorType(float32, (True, False, False))> ''   \n |       | |SoftmaxWithBias [id HR] <TensorType(float32, matrix)> ''   \n |       |   |Dot22 [id HS] <TensorType(float32, matrix)> ''   \n |       |   | |sigmoid [id HT] <TensorType(float32, matrix)> ''   \n |       |   | | |Elemwise{add,no_inplace} [id HU] <TensorType(float32, matrix)> ''   \n |       |   | |   |Dot22 [id HV] <TensorType(float32, matrix)> ''   \n |       |   | |   | |Subtensor{int64} [id HW] <TensorType(float32, matrix)> ''   \n |       |   | |   | | |InplaceDimShuffle{1,0,2} [id N] <TensorType(float32, 3D)> ''   \n |       |   | |   | | |Constant{22} [id HX] <int64>\n |       |   | |   | |dense1.W [id Z] <TensorType(float32, matrix)>\n |       |   | |   |InplaceDimShuffle{x,0} [id BA] <TensorType(float32, row)> ''   \n |       |   | |q-evaluator layer.W [id BC] <TensorType(float32, matrix)>\n |       |   |q-evaluator layer.b [id BD] <TensorType(float32, vector)>\n |       |InplaceDimShuffle{x,0,1} [id HY] <TensorType(float32, (True, False, False))> ''   \n |       | |SoftmaxWithBias [id HZ] <TensorType(float32, matrix)> ''   \n |       |   |Dot22 [id IA] <TensorType(float32, matrix)> ''   \n |       |   | |sigmoid [id IB] <TensorType(float32, matrix)> ''   \n |       |   | | |Elemwise{add,no_inplace} [id IC] <TensorType(float32, matrix)> ''   \n |       |   | |   |Dot22 [id ID] <TensorType(float32, matrix)> ''   \n |       |   | |   | |Subtensor{int64} [id IE] <TensorType(float32, matrix)> ''   \n |       |   | |   | | |InplaceDimShuffle{1,0,2} [id N] <TensorType(float32, 3D)> ''   \n |       |   | |   | | |Constant{23} [id IF] <int64>\n |       |   | |   | |dense1.W [id Z] <TensorType(float32, matrix)>\n |       |   | |   |InplaceDimShuffle{x,0} [id BA] <TensorType(float32, row)> ''   \n |       |   | |q-evaluator layer.W [id BC] <TensorType(float32, matrix)>\n |       |   |q-evaluator layer.b [id BD] <TensorType(float32, vector)>\n |       |InplaceDimShuffle{x,0,1} [id IG] <TensorType(float32, (True, False, False))> ''   \n |         |SoftmaxWithBias [id IH] <TensorType(float32, matrix)> ''   \n |           |Dot22 [id II] <TensorType(float32, matrix)> ''   \n |           | |sigmoid [id IJ] <TensorType(float32, matrix)> ''   \n |           | | |Elemwise{add,no_inplace} [id IK] <TensorType(float32, matrix)> ''   \n |           | |   |Dot22 [id IL] <TensorType(float32, matrix)> ''   \n |           | |   | |Subtensor{int64} [id IM] <TensorType(float32, matrix)> ''   \n |           | |   | | |InplaceDimShuffle{1,0,2} [id N] <TensorType(float32, 3D)> ''   \n |           | |   | | |Constant{24} [id IN] <int64>\n |           | |   | |dense1.W [id Z] <TensorType(float32, matrix)>\n |           | |   |InplaceDimShuffle{x,0} [id BA] <TensorType(float32, row)> ''   \n |           | |q-evaluator layer.W [id BC] <TensorType(float32, matrix)>\n |           |q-evaluator layer.b [id BD] <TensorType(float32, vector)>\n |InplaceDimShuffle{0,x} [id IO] <TensorType(int64, col)> ''   \n | |ARange{dtype='int64'} [id IP] <TensorType(int64, vector)> ''   \n |   |TensorConstant{0} [id F] <TensorType(int8, scalar)>\n |   |Subtensor{int64} [id IQ] <TensorType(int64, scalar)> ''   \n |   | |Shape [id IR] <TensorType(int64, vector)> ''   \n |   | | |Elemwise{log,no_inplace} [id B] <TensorType(float32, 3D)> ''   \n |   | |Constant{0} [id W] <int64>\n |   |TensorConstant{1} [id X] <TensorType(int8, scalar)>\n |InplaceDimShuffle{x,0} [id IS] <TensorType(int64, row)> ''   \n | |ARange{dtype='int64'} [id IT] <TensorType(int64, vector)> ''   \n |   |TensorConstant{0} [id F] <TensorType(int8, scalar)>\n |   |Subtensor{int64} [id IU] <TensorType(int64, scalar)> ''   \n |   | |Shape [id IR] <TensorType(int64, vector)> ''   \n |   | |Constant{1} [id BL] <int64>\n |   |TensorConstant{1} [id X] <TensorType(int8, scalar)>\n |AdvancedSubtensor1 [id IV] <TensorType(int32, 3D)> ''   \n   |session.actions_history.0 [id IW] <TensorType(int32, 3D)>\n   |RandomFunction{choice_helper}.1 [id Q] <TensorType(int32, vector)> ''   \n\nStorage map footprint:\n - Print{message='>>>> policy_seq; ', attrs=('__str__',), global_fn=<function _print_fn at 0x7f6ce6096a60>}.0, Shape: (100, 25, 6), ElemSize: 4 Byte(s), TotalSize: 60000 Byte(s)\n - Elemwise{log,no_inplace}.0, Shape: (100, 25, 6), ElemSize: 4 Byte(s), TotalSize: 60000 Byte(s)\n - sessions.observations_history.0, Shared Input, Shape: (111, 25, 2), ElemSize: 4 Byte(s), TotalSize: 22200 Byte(s)\n - session.actions_history.0, Shared Input, Shape: (111, 25, 2), ElemSize: 4 Byte(s), TotalSize: 22200 Byte(s)\n - AdvancedSubtensor1.0, Shape: (100, 25, 2), ElemSize: 4 Byte(s), TotalSize: 20000 Byte(s)\n - session.rewards_history, Shared Input, Shape: (111, 25), ElemSize: 4 Byte(s), TotalSize: 11100 Byte(s)\n - sigmoid.0, Shape: (100, 10), ElemSize: 4 Byte(s), TotalSize: 4000 Byte(s)\n - sigmoid.0, Shape: (100, 10), ElemSize: 4 Byte(s), TotalSize: 4000 Byte(s)\n - sigmoid.0, Shape: (100, 10), ElemSize: 4 Byte(s), TotalSize: 4000 Byte(s)\n - sigmoid.0, Shape: (100, 10), ElemSize: 4 Byte(s), TotalSize: 4000 Byte(s)\n - sigmoid.0, Shape: (100, 10), ElemSize: 4 Byte(s), TotalSize: 4000 Byte(s)\n - sigmoid.0, Shape: (100, 10), ElemSize: 4 Byte(s), TotalSize: 4000 Byte(s)\n - sigmoid.0, Shape: (100, 10), ElemSize: 4 Byte(s), TotalSize: 4000 Byte(s)\n - sigmoid.0, Shape: (100, 10), ElemSize: 4 Byte(s), TotalSize: 4000 Byte(s)\n - sigmoid.0, Shape: (100, 10), ElemSize: 4 Byte(s), TotalSize: 4000 Byte(s)\n - sigmoid.0, Shape: (100, 10), ElemSize: 4 Byte(s), TotalSize: 4000 Byte(s)\n - sigmoid.0, Shape: (100, 10), ElemSize: 4 Byte(s), TotalSize: 4000 Byte(s)\n - sigmoid.0, Shape: (100, 10), ElemSize: 4 Byte(s), TotalSize: 4000 Byte(s)\n - sigmoid.0, Shape: (100, 10), ElemSize: 4 Byte(s), TotalSize: 4000 Byte(s)\n - sigmoid.0, Shape: (100, 10), ElemSize: 4 Byte(s), TotalSize: 4000 Byte(s)\n - sigmoid.0, Shape: (100, 10), ElemSize: 4 Byte(s), TotalSize: 4000 Byte(s)\n - sigmoid.0, Shape: (100, 10), ElemSize: 4 Byte(s), TotalSize: 4000 Byte(s)\n - sigmoid.0, Shape: (100, 10), ElemSize: 4 Byte(s), TotalSize: 4000 Byte(s)\n - sigmoid.0, Shape: (100, 10), ElemSize: 4 Byte(s), TotalSize: 4000 Byte(s)\n - sigmoid.0, Shape: (100, 10), ElemSize: 4 Byte(s), TotalSize: 4000 Byte(s)\n - sigmoid.0, Shape: (100, 10), ElemSize: 4 Byte(s), TotalSize: 4000 Byte(s)\n - sigmoid.0, Shape: (100, 10), ElemSize: 4 Byte(s), TotalSize: 4000 Byte(s)\n - sigmoid.0, Shape: (100, 10), ElemSize: 4 Byte(s), TotalSize: 4000 Byte(s)\n - sigmoid.0, Shape: (100, 10), ElemSize: 4 Byte(s), TotalSize: 4000 Byte(s)\n - sigmoid.0, Shape: (100, 10), ElemSize: 4 Byte(s), TotalSize: 4000 Byte(s)\n - sigmoid.0, Shape: (100, 10), ElemSize: 4 Byte(s), TotalSize: 4000 Byte(s)\n - session.is_alive, Shared Input, Shape: (111, 25), ElemSize: 1 Byte(s), TotalSize: 2775 Byte(s)\n - SoftmaxWithBias.0, Shape: (100, 6), ElemSize: 4 Byte(s), TotalSize: 2400 Byte(s)\n - SoftmaxWithBias.0, Shape: (100, 6), ElemSize: 4 Byte(s), TotalSize: 2400 Byte(s)\n - SoftmaxWithBias.0, Shape: (100, 6), ElemSize: 4 Byte(s), TotalSize: 2400 Byte(s)\n - SoftmaxWithBias.0, Shape: (100, 6), ElemSize: 4 Byte(s), TotalSize: 2400 Byte(s)\n - SoftmaxWithBias.0, Shape: (100, 6), ElemSize: 4 Byte(s), TotalSize: 2400 Byte(s)\n - SoftmaxWithBias.0, Shape: (100, 6), ElemSize: 4 Byte(s), TotalSize: 2400 Byte(s)\n - SoftmaxWithBias.0, Shape: (100, 6), ElemSize: 4 Byte(s), TotalSize: 2400 Byte(s)\n - SoftmaxWithBias.0, Shape: (100, 6), ElemSize: 4 Byte(s), TotalSize: 2400 Byte(s)\n - SoftmaxWithBias.0, Shape: (100, 6), ElemSize: 4 Byte(s), TotalSize: 2400 Byte(s)\n - SoftmaxWithBias.0, Shape: (100, 6), ElemSize: 4 Byte(s), TotalSize: 2400 Byte(s)\n - SoftmaxWithBias.0, Shape: (100, 6), ElemSize: 4 Byte(s), TotalSize: 2400 Byte(s)\n - SoftmaxWithBias.0, Shape: (100, 6), ElemSize: 4 Byte(s), TotalSize: 2400 Byte(s)\n - SoftmaxWithBias.0, Shape: (100, 6), ElemSize: 4 Byte(s), TotalSize: 2400 Byte(s)\n - SoftmaxWithBias.0, Shape: (100, 6), ElemSize: 4 Byte(s), TotalSize: 2400 Byte(s)\n - SoftmaxWithBias.0, Shape: (100, 6), ElemSize: 4 Byte(s), TotalSize: 2400 Byte(s)\n - SoftmaxWithBias.0, Shape: (100, 6), ElemSize: 4 Byte(s), TotalSize: 2400 Byte(s)\n - SoftmaxWithBias.0, Shape: (100, 6), ElemSize: 4 Byte(s), TotalSize: 2400 Byte(s)\n - SoftmaxWithBias.0, Shape: (100, 6), ElemSize: 4 Byte(s), TotalSize: 2400 Byte(s)\n - SoftmaxWithBias.0, Shape: (100, 6), ElemSize: 4 Byte(s), TotalSize: 2400 Byte(s)\n - SoftmaxWithBias.0, Shape: (100, 6), ElemSize: 4 Byte(s), TotalSize: 2400 Byte(s)\n - SoftmaxWithBias.0, Shape: (100, 6), ElemSize: 4 Byte(s), TotalSize: 2400 Byte(s)\n - SoftmaxWithBias.0, Shape: (100, 6), ElemSize: 4 Byte(s), TotalSize: 2400 Byte(s)\n - SoftmaxWithBias.0, Shape: (100, 6), ElemSize: 4 Byte(s), TotalSize: 2400 Byte(s)\n - SoftmaxWithBias.0, Shape: (100, 6), ElemSize: 4 Byte(s), TotalSize: 2400 Byte(s)\n - SoftmaxWithBias.0, Shape: (100, 6), ElemSize: 4 Byte(s), TotalSize: 2400 Byte(s)\n - InplaceDimShuffle{x,0,1}.0, Shape: (1, 100, 6), ElemSize: 4 Byte(s), TotalSize: 2400 Byte(s)\n - InplaceDimShuffle{x,0,1}.0, Shape: (1, 100, 6), ElemSize: 4 Byte(s), TotalSize: 2400 Byte(s)\n - InplaceDimShuffle{x,0,1}.0, Shape: (1, 100, 6), ElemSize: 4 Byte(s), TotalSize: 2400 Byte(s)\n - InplaceDimShuffle{x,0,1}.0, Shape: (1, 100, 6), ElemSize: 4 Byte(s), TotalSize: 2400 Byte(s)\n - InplaceDimShuffle{x,0,1}.0, Shape: (1, 100, 6), ElemSize: 4 Byte(s), TotalSize: 2400 Byte(s)\n - InplaceDimShuffle{x,0,1}.0, Shape: (1, 100, 6), ElemSize: 4 Byte(s), TotalSize: 2400 Byte(s)\n - InplaceDimShuffle{x,0,1}.0, Shape: (1, 100, 6), ElemSize: 4 Byte(s), TotalSize: 2400 Byte(s)\n - InplaceDimShuffle{x,0,1}.0, Shape: (1, 100, 6), ElemSize: 4 Byte(s), TotalSize: 2400 Byte(s)\n - InplaceDimShuffle{x,0,1}.0, Shape: (1, 100, 6), ElemSize: 4 Byte(s), TotalSize: 2400 Byte(s)\n - InplaceDimShuffle{x,0,1}.0, Shape: (1, 100, 6), ElemSize: 4 Byte(s), TotalSize: 2400 Byte(s)\n - InplaceDimShuffle{x,0,1}.0, Shape: (1, 100, 6), ElemSize: 4 Byte(s), TotalSize: 2400 Byte(s)\n - InplaceDimShuffle{x,0,1}.0, Shape: (1, 100, 6), ElemSize: 4 Byte(s), TotalSize: 2400 Byte(s)\n - InplaceDimShuffle{x,0,1}.0, Shape: (1, 100, 6), ElemSize: 4 Byte(s), TotalSize: 2400 Byte(s)\n - InplaceDimShuffle{x,0,1}.0, Shape: (1, 100, 6), ElemSize: 4 Byte(s), TotalSize: 2400 Byte(s)\n - InplaceDimShuffle{x,0,1}.0, Shape: (1, 100, 6), ElemSize: 4 Byte(s), TotalSize: 2400 Byte(s)\n - InplaceDimShuffle{x,0,1}.0, Shape: (1, 100, 6), ElemSize: 4 Byte(s), TotalSize: 2400 Byte(s)\n - InplaceDimShuffle{x,0,1}.0, Shape: (1, 100, 6), ElemSize: 4 Byte(s), TotalSize: 2400 Byte(s)\n - InplaceDimShuffle{x,0,1}.0, Shape: (1, 100, 6), ElemSize: 4 Byte(s), TotalSize: 2400 Byte(s)\n - InplaceDimShuffle{x,0,1}.0, Shape: (1, 100, 6), ElemSize: 4 Byte(s), TotalSize: 2400 Byte(s)\n - InplaceDimShuffle{x,0,1}.0, Shape: (1, 100, 6), ElemSize: 4 Byte(s), TotalSize: 2400 Byte(s)\n - InplaceDimShuffle{x,0,1}.0, Shape: (1, 100, 6), ElemSize: 4 Byte(s), TotalSize: 2400 Byte(s)\n - InplaceDimShuffle{x,0,1}.0, Shape: (1, 100, 6), ElemSize: 4 Byte(s), TotalSize: 2400 Byte(s)\n - InplaceDimShuffle{x,0,1}.0, Shape: (1, 100, 6), ElemSize: 4 Byte(s), TotalSize: 2400 Byte(s)\n - InplaceDimShuffle{x,0,1}.0, Shape: (1, 100, 6), ElemSize: 4 Byte(s), TotalSize: 2400 Byte(s)\n - InplaceDimShuffle{x,0,1}.0, Shape: (1, 100, 6), ElemSize: 4 Byte(s), TotalSize: 2400 Byte(s)\n - Subtensor{int64}.0, Shape: (100, 2), ElemSize: 4 Byte(s), TotalSize: 800 Byte(s)\n - Subtensor{int64}.0, Shape: (100, 2), ElemSize: 4 Byte(s), TotalSize: 800 Byte(s)\n - Subtensor{int64}.0, Shape: (100, 2), ElemSize: 4 Byte(s), TotalSize: 800 Byte(s)\n - Subtensor{int64}.0, Shape: (100, 2), ElemSize: 4 Byte(s), TotalSize: 800 Byte(s)\n - Subtensor{int64}.0, Shape: (100, 2), ElemSize: 4 Byte(s), TotalSize: 800 Byte(s)\n - Subtensor{int64}.0, Shape: (100, 2), ElemSize: 4 Byte(s), TotalSize: 800 Byte(s)\n - Subtensor{int64}.0, Shape: (100, 2), ElemSize: 4 Byte(s), TotalSize: 800 Byte(s)\n - Subtensor{int64}.0, Shape: (100, 2), ElemSize: 4 Byte(s), TotalSize: 800 Byte(s)\n - Subtensor{int64}.0, Shape: (100, 2), ElemSize: 4 Byte(s), TotalSize: 800 Byte(s)\n - Subtensor{int64}.0, Shape: (100, 2), ElemSize: 4 Byte(s), TotalSize: 800 Byte(s)\n - Subtensor{int64}.0, Shape: (100, 2), ElemSize: 4 Byte(s), TotalSize: 800 Byte(s)\n - Subtensor{int64}.0, Shape: (100, 2), ElemSize: 4 Byte(s), TotalSize: 800 Byte(s)\n - Subtensor{int64}.0, Shape: (100, 2), ElemSize: 4 Byte(s), TotalSize: 800 Byte(s)\n - Subtensor{int64}.0, Shape: (100, 2), ElemSize: 4 Byte(s), TotalSize: 800 Byte(s)\n - Subtensor{int64}.0, Shape: (100, 2), ElemSize: 4 Byte(s), TotalSize: 800 Byte(s)\n - Subtensor{int64}.0, Shape: (100, 2), ElemSize: 4 Byte(s), TotalSize: 800 Byte(s)\n - Subtensor{int64}.0, Shape: (100, 2), ElemSize: 4 Byte(s), TotalSize: 800 Byte(s)\n - Subtensor{int64}.0, Shape: (100, 2), ElemSize: 4 Byte(s), TotalSize: 800 Byte(s)\n - Subtensor{int64}.0, Shape: (100, 2), ElemSize: 4 Byte(s), TotalSize: 800 Byte(s)\n - Subtensor{int64}.0, Shape: (100, 2), ElemSize: 4 Byte(s), TotalSize: 800 Byte(s)\n - Subtensor{int64}.0, Shape: (100, 2), ElemSize: 4 Byte(s), TotalSize: 800 Byte(s)\n - Subtensor{int64}.0, Shape: (100, 2), ElemSize: 4 Byte(s), TotalSize: 800 Byte(s)\n - Subtensor{int64}.0, Shape: (100, 2), ElemSize: 4 Byte(s), TotalSize: 800 Byte(s)\n - Subtensor{int64}.0, Shape: (100, 2), ElemSize: 4 Byte(s), TotalSize: 800 Byte(s)\n - Subtensor{int64}.0, Shape: (100, 2), ElemSize: 4 Byte(s), TotalSize: 800 Byte(s)\n - InplaceDimShuffle{0,x}.0, Shape: (100, 1), ElemSize: 8 Byte(s), TotalSize: 800 Byte(s)\n - RandomFunction{choice_helper}.1, Shape: (100,), ElemSize: 4 Byte(s), TotalSize: 400 Byte(s)\n - q-evaluator layer.W, Shared Input, Shape: (10, 6), ElemSize: 4 Byte(s), TotalSize: 240 Byte(s)\n - <TensorType(float32, matrix)>, Shared Input, Shape: (10, 6), ElemSize: 4 Byte(s), TotalSize: 240 Byte(s)\n - InplaceDimShuffle{x,0}.0, Shape: (1, 25), ElemSize: 8 Byte(s), TotalSize: 200 Byte(s)\n - dense1.W, Shared Input, Shape: (2, 10), ElemSize: 4 Byte(s), TotalSize: 80 Byte(s)\n - <TensorType(float32, matrix)>, Shared Input, Shape: (2, 10), ElemSize: 4 Byte(s), TotalSize: 80 Byte(s)\n - dense1.b, Shared Input, Shape: (10,), ElemSize: 4 Byte(s), TotalSize: 40 Byte(s)\n - state values.W, Shared Input, Shape: (10, 1), ElemSize: 4 Byte(s), TotalSize: 40 Byte(s)\n - <TensorType(float32, vector)>, Shared Input, Shape: (10,), ElemSize: 4 Byte(s), TotalSize: 40 Byte(s)\n - <TensorType(float32, col)>, Shared Input, Shape: (10, 1), ElemSize: 4 Byte(s), TotalSize: 40 Byte(s)\n - q-evaluator layer.b, Shared Input, Shape: (6,), ElemSize: 4 Byte(s), TotalSize: 24 Byte(s)\n - <TensorType(float32, vector)>, Shared Input, Shape: (6,), ElemSize: 4 Byte(s), TotalSize: 24 Byte(s)\n - Constant{0}, Shape: (), ElemSize: 8 Byte(s), TotalSize: 8.0 Byte(s)\n - TensorConstant{(1,) of 100}, Shape: (1,), ElemSize: 8 Byte(s), TotalSize: 8 Byte(s)\n - Constant{24}, Shape: (), ElemSize: 8 Byte(s), TotalSize: 8.0 Byte(s)\n - Constant{23}, Shape: (), ElemSize: 8 Byte(s), TotalSize: 8.0 Byte(s)\n - Constant{22}, Shape: (), ElemSize: 8 Byte(s), TotalSize: 8.0 Byte(s)\n - Constant{21}, Shape: (), ElemSize: 8 Byte(s), TotalSize: 8.0 Byte(s)\n - Constant{20}, Shape: (), ElemSize: 8 Byte(s), TotalSize: 8.0 Byte(s)\n - Constant{19}, Shape: (), ElemSize: 8 Byte(s), TotalSize: 8.0 Byte(s)\n - Constant{18}, Shape: (), ElemSize: 8 Byte(s), TotalSize: 8.0 Byte(s)\n - Constant{17}, Shape: (), ElemSize: 8 Byte(s), TotalSize: 8.0 Byte(s)\n - Constant{16}, Shape: (), ElemSize: 8 Byte(s), TotalSize: 8.0 Byte(s)\n - Constant{15}, Shape: (), ElemSize: 8 Byte(s), TotalSize: 8.0 Byte(s)\n - Constant{14}, Shape: (), ElemSize: 8 Byte(s), TotalSize: 8.0 Byte(s)\n - Constant{13}, Shape: (), ElemSize: 8 Byte(s), TotalSize: 8.0 Byte(s)\n - Constant{12}, Shape: (), ElemSize: 8 Byte(s), TotalSize: 8.0 Byte(s)\n - Constant{11}, Shape: (), ElemSize: 8 Byte(s), TotalSize: 8.0 Byte(s)\n - Constant{10}, Shape: (), ElemSize: 8 Byte(s), TotalSize: 8.0 Byte(s)\n - Constant{9}, Shape: (), ElemSize: 8 Byte(s), TotalSize: 8.0 Byte(s)\n - Constant{8}, Shape: (), ElemSize: 8 Byte(s), TotalSize: 8.0 Byte(s)\n - Constant{7}, Shape: (), ElemSize: 8 Byte(s), TotalSize: 8.0 Byte(s)\n - Constant{6}, Shape: (), ElemSize: 8 Byte(s), TotalSize: 8.0 Byte(s)\n - Constant{5}, Shape: (), ElemSize: 8 Byte(s), TotalSize: 8.0 Byte(s)\n - Constant{4}, Shape: (), ElemSize: 8 Byte(s), TotalSize: 8.0 Byte(s)\n - Constant{3}, Shape: (), ElemSize: 8 Byte(s), TotalSize: 8.0 Byte(s)\n - Constant{2}, Shape: (), ElemSize: 8 Byte(s), TotalSize: 8.0 Byte(s)\n - Constant{1}, Shape: (), ElemSize: 8 Byte(s), TotalSize: 8.0 Byte(s)\n - Constant{-1}, Shape: (), ElemSize: 8 Byte(s), TotalSize: 8.0 Byte(s)\n - TensorConstant{1.0}, Shape: (), ElemSize: 8 Byte(s), TotalSize: 8.0 Byte(s)\n - state values.b, Shared Input, Shape: (1,), ElemSize: 4 Byte(s), TotalSize: 4 Byte(s)\n - <TensorType(float32, (True,))>, Shared Input, Shape: (1,), ElemSize: 4 Byte(s), TotalSize: 4 Byte(s)\n - TensorConstant{(1,) of 0.9}, Shape: (1,), ElemSize: 4 Byte(s), TotalSize: 4 Byte(s)\n - TensorConstant{(1, 1) of 0.9}, Shape: (1, 1), ElemSize: 4 Byte(s), TotalSize: 4 Byte(s)\n - TensorConstant{(1, 1) of 1.0}, Shape: (1, 1), ElemSize: 4 Byte(s), TotalSize: 4 Byte(s)\n - TensorConstant{(1, 1, 1) of 1.0}, Shape: (1, 1, 1), ElemSize: 4 Byte(s), TotalSize: 4 Byte(s)\n - TensorConstant{(1, 1, 1) of 0.0}, Shape: (1, 1, 1), ElemSize: 4 Byte(s), TotalSize: 4 Byte(s)\n - TensorConstant{(1, 1) of 0.0}, Shape: (1, 1), ElemSize: 4 Byte(s), TotalSize: 4 Byte(s)\n - TensorConstant{0.009999999776482582}, Shape: (), ElemSize: 4 Byte(s), TotalSize: 4.0 Byte(s)\n - TensorConstant{(1, 1) of 0.99}, Shape: (1, 1), ElemSize: 4 Byte(s), TotalSize: 4 Byte(s)\n - TensorConstant{(1, 1) of 0.001}, Shape: (1, 1), ElemSize: 4 Byte(s), TotalSize: 4 Byte(s)\n - TensorConstant{(1, 1) of 0.1}, Shape: (1, 1), ElemSize: 4 Byte(s), TotalSize: 4 Byte(s)\n - TensorConstant{(1,) of 0.001}, Shape: (1,), ElemSize: 4 Byte(s), TotalSize: 4 Byte(s)\n - TensorConstant{(1,) of 0.1}, Shape: (1,), ElemSize: 4 Byte(s), TotalSize: 4 Byte(s)\n - TensorConstant{(1, 1) of 1e-06}, Shape: (1, 1), ElemSize: 4 Byte(s), TotalSize: 4 Byte(s)\n - TensorConstant{(1,) of 1e-06}, Shape: (1,), ElemSize: 4 Byte(s), TotalSize: 4 Byte(s)\n - TensorConstant{1}, Shape: (), ElemSize: 1 Byte(s), TotalSize: 1.0 Byte(s)\n - TensorConstant{(1, 1) of 1}, Shape: (1, 1), ElemSize: 1 Byte(s), TotalSize: 1 Byte(s)\n - TensorConstant{False}, Shape: (), ElemSize: 1 Byte(s), TotalSize: 1.0 Byte(s)\n - TensorConstant{0}, Shape: (), ElemSize: 1 Byte(s), TotalSize: 1.0 Byte(s)\n - Constant{0}, Shape: (), ElemSize: 1 Byte(s), TotalSize: 1.0 Byte(s)\n - TensorConstant{(1, 1) of 2}, Shape: (1, 1), ElemSize: 1 Byte(s), TotalSize: 1 Byte(s)\n - TensorConstant{(1,) of 2}, Shape: (1,), ElemSize: 1 Byte(s), TotalSize: 1 Byte(s)\n - TensorConstant{[]}, Shape: (0,), ElemSize: 4 Byte(s), TotalSize: 0 Byte(s)\n TotalSize: 380818.0 Byte(s) 0.000 GB\n TotalSize inputs: 59418.0 Byte(s) 0.000 GB\n\n"
     ]
    }
   ],
   "source": [
    "#the loop may take eons to finish.\n",
    "#consider interrupting early.\n",
    "loss = 0\n",
    "\n",
    "for i in tqdm(range(1000)):\n",
    "# for i in tqdm(range(20)):\n",
    "# for i in tqdm(range(1)):\n",
    "    #train\n",
    "    for i in range(10):\n",
    "        pool.update(SEQ_LENGTH, append=True, preprocess=bnn.add_vime_reward)\n",
    "\n",
    "    for i in range(10):\n",
    "        new_loss = train_step()\n",
    "        loss = loss * 0.99 + new_loss * 0.01\n",
    "    \n",
    "    for i in range(10):\n",
    "        bnn.train_step(*bnn.sample_from_pool())\n",
    "\n",
    "#     if epoch_counter % 100 == 0:\n",
    "#         print(\"Loss: \", loss)\n",
    "\n",
    "    if epoch_counter % 100 == 0:\n",
    "        #average reward per game tick in current experience replay pool\n",
    "        pool_mean_reward = np.average(pool.experience_replay.rewards.get_value()[:,:-1],\n",
    "                                      weights=1 + pool.experience_replay.is_alive.get_value()[:,:-1])\n",
    "        pool_size = pool.experience_replay.rewards.get_value().shape[0]\n",
    "        print(\"iter=%i\\treward/step=%.5f\\tpool_size=%i\\tvime ma=%.5f\"%(epoch_counter,\n",
    "                                                         pool_mean_reward,\n",
    "                                                         pool_size,\n",
    "                                                         bnn.vime_reward_ma))\n",
    "        \n",
    "\n",
    "    ##record current learning progress and show learning curves\n",
    "    if epoch_counter % 500 == 0:\n",
    "        n_games = 10\n",
    "        rewards[epoch_counter] = pool.evaluate(\n",
    "            record_video=False,\n",
    "            n_games=n_games,\n",
    "            verbose=False)\n",
    "        print(\"Current score(mean over %i) = %.3f\"%(n_games,np.mean(rewards[epoch_counter])))\n",
    "    \n",
    "    \n",
    "    epoch_counter  +=1\n",
    "\n",
    "    \n",
    "# Time to drink some coffee!"
   ]
  },
  {
   "cell_type": "code",
   "execution_count": null,
   "metadata": {
    "collapsed": false
   },
   "outputs": [],
   "source": [
    "iters, session_rewards=zip(*sorted(rewards.items(),key=lambda pr:pr[0]))"
   ]
  },
  {
   "cell_type": "code",
   "execution_count": null,
   "metadata": {
    "collapsed": false
   },
   "outputs": [],
   "source": [
    "plt.plot(iters,list(map(np.mean, session_rewards)))\n",
    "plt.title(\"Training progress\")\n",
    "plt.xlabel(\"Epoch counter\")\n",
    "plt.ylabel(\"Mean Income\")\n",
    "plt.show()"
   ]
  },
  {
   "cell_type": "code",
   "execution_count": null,
   "metadata": {
    "collapsed": false
   },
   "outputs": [],
   "source": [
    "_,_,_,_,(pool_policy,pool_V) = agent.get_sessions(\n",
    "    pool.experience_replay,\n",
    "    session_length=SEQ_LENGTH,\n",
    "    experience_replay=True,)\n",
    "\n",
    "states = pool.experience_replay.observations[0].get_value().reshape((-1, 5)).T[-2:]\n",
    "values = pool_V.ravel().eval()\n",
    "optimal_actid = pool_policy.argmax(-1).ravel().eval()"
   ]
  },
  {
   "cell_type": "code",
   "execution_count": null,
   "metadata": {
    "collapsed": false
   },
   "outputs": [],
   "source": [
    "states.shape"
   ]
  },
  {
   "cell_type": "code",
   "execution_count": null,
   "metadata": {
    "collapsed": false
   },
   "outputs": [],
   "source": [
    "values.shape"
   ]
  },
  {
   "cell_type": "code",
   "execution_count": null,
   "metadata": {
    "collapsed": false
   },
   "outputs": [],
   "source": [
    "plt.scatter(\n",
    "    *states,\n",
    "#     c=values,\n",
    "    alpha = 0.1)\n",
    "plt.title(\"predicted state values\")\n",
    "plt.xlabel(\"previous\")\n",
    "plt.ylabel(\"current\")\n",
    "plt.show()"
   ]
  },
  {
   "cell_type": "code",
   "execution_count": null,
   "metadata": {
    "collapsed": false
   },
   "outputs": [],
   "source": [
    "obs_x, obs_y = states\n",
    "\n",
    "for i in range(3):\n",
    "    sel = (optimal_actid==i)\n",
    "    plt.scatter(obs_x[sel],\n",
    "                obs_y[sel],\n",
    "                c=['red','blue','green'][i],\n",
    "                alpha = 0.1,\n",
    "                label=action_names[i])\n",
    "    \n",
    "plt.title(\"most likely action id\")\n",
    "plt.xlabel(\"previous\")\n",
    "plt.ylabel(\"current\")\n",
    "plt.legend(loc='best')\n",
    "plt.show()"
   ]
  },
  {
   "cell_type": "code",
   "execution_count": null,
   "metadata": {
    "collapsed": false
   },
   "outputs": [],
   "source": [
    "#for MountainCar-v0 evaluation session is cropped to 200 ticks\n",
    "untrained_reward = pool.evaluate(save_path=\"./records\",record_video=True)"
   ]
  },
  {
   "cell_type": "markdown",
   "metadata": {
    "collapsed": true
   },
   "source": [
    "### "
   ]
  },
  {
   "cell_type": "code",
   "execution_count": null,
   "metadata": {
    "collapsed": true
   },
   "outputs": [],
   "source": []
  }
 ],
 "metadata": {
  "anaconda-cloud": {},
  "kernelspec": {
   "display_name": "Python 3",
   "language": "python",
   "name": "python3"
  },
  "language_info": {
   "codemirror_mode": {
    "name": "ipython",
    "version": 3
   },
   "file_extension": ".py",
   "mimetype": "text/x-python",
   "name": "python",
   "nbconvert_exporter": "python",
   "pygments_lexer": "ipython3",
   "version": "3.6.0"
  }
 },
 "nbformat": 4,
 "nbformat_minor": 0
}
